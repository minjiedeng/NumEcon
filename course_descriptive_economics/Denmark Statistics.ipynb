{
 "cells": [
  {
   "cell_type": "markdown",
   "metadata": {
    "toc": true
   },
   "source": [
    "<h1>Table of Contents<span class=\"tocSkip\"></span></h1>\n",
    "<div class=\"toc\"><ul class=\"toc-item\"><li><span><a href=\"#Setup\" data-toc-modified-id=\"Setup-1\"><span class=\"toc-item-num\">1&nbsp;&nbsp;</span>Setup</a></span></li><li><span><a href=\"#Plot\" data-toc-modified-id=\"Plot-2\"><span class=\"toc-item-num\">2&nbsp;&nbsp;</span>Plot</a></span></li></ul></div>"
   ]
  },
  {
   "cell_type": "markdown",
   "metadata": {},
   "source": [
    "**Description:** This is a Jupyter Notebook with Python code. You do not need any knowledge or either Jupyter or Python to run it.\n",
    "\n",
    "**To run all:** Kernel $\\rightarrow$ Restart & Run All\n",
    "\n",
    "**To run each cell press:**\n",
    "\n",
    "1. <kbd>Ctrl</kbd>+<kbd>Enter</kbd> to just run the cell\n",
    "2. <kbd>Ctrl</kbd>+<kbd>Shift</kbd>+<kbd>Enter</kbd> to the run the cell and proceed to the next"
   ]
  },
  {
   "cell_type": "markdown",
   "metadata": {},
   "source": [
    "# Setup"
   ]
  },
  {
   "cell_type": "code",
   "execution_count": 1,
   "metadata": {
    "code_folding": [
     0
    ]
   },
   "outputs": [],
   "source": [
    "# import and settings\n",
    "%matplotlib inline\n",
    "%load_ext autoreload\n",
    "%autoreload 1\n",
    "\n",
    "import context\n",
    "import numecon.course_descriptive_economics.dst as dst\n",
    "%aimport numecon.course_descriptive_economics.dst"
   ]
  },
  {
   "cell_type": "code",
   "execution_count": 2,
   "metadata": {
    "code_folding": [
     0
    ]
   },
   "outputs": [
    {
     "data": {
      "text/html": [
       "<style>\n",
       ".output_wrapper, .output {\n",
       "    height:auto !important;\n",
       "    max-height:5000px;  /* your desired max-height here */\n",
       "}\n",
       ".output_scroll {\n",
       "    box-shadow:none !important;\n",
       "    webkit-box-shadow:none !important;\n",
       "}\n",
       "</style>"
      ],
      "text/plain": [
       "<IPython.core.display.HTML object>"
      ]
     },
     "metadata": {},
     "output_type": "display_data"
    }
   ],
   "source": [
    "%%html\n",
    "<style>\n",
    ".output_wrapper, .output {\n",
    "    height:auto !important;\n",
    "    max-height:5000px;  /* your desired max-height here */\n",
    "}\n",
    ".output_scroll {\n",
    "    box-shadow:none !important;\n",
    "    webkit-box-shadow:none !important;\n",
    "}\n",
    "</style>"
   ]
  },
  {
   "cell_type": "markdown",
   "metadata": {},
   "source": [
    "# Plot"
   ]
  },
  {
   "cell_type": "markdown",
   "metadata": {},
   "source": [
    "Load data from Statistikbanken.dk table NAN1"
   ]
  },
  {
   "cell_type": "code",
   "execution_count": 3,
   "metadata": {
    "scrolled": true
   },
   "outputs": [
    {
     "data": {
      "application/vnd.jupyter.widget-view+json": {
       "model_id": "9d46158ba5db476eaef26ce720d6a4cb",
       "version_major": 2,
       "version_minor": 0
      },
      "text/plain": [
       "interactive(children=(Dropdown(description='variable', options=('GDP', 'Investment'), value='GDP'), RadioButto…"
      ]
     },
     "metadata": {},
     "output_type": "display_data"
    }
   ],
   "source": [
    "dst.plot()"
   ]
  },
  {
   "cell_type": "code",
   "execution_count": 4,
   "metadata": {
    "scrolled": false
   },
   "outputs": [
    {
     "name": "stdout",
     "output_type": "stream",
     "text": [
      "variable:\n",
      "B1GQK           B.1*g Bruttonationalprodukt, BNP\n",
      "P7K             P.7 Import af varer og tjenester\n",
      "P71K            P.71 Import af varer\n",
      "P72K            P.72 Import af tjenester\n",
      "TFSPR           Forsyning i alt\n",
      "P6D             P.6 Eksport af varer og tjenester\n",
      "P61D            P.61 Eksport af varer\n",
      "P62D            P.62 Eksport af tjenester\n",
      "P31S1MD         P.31 Privatforbrug\n",
      "P31S14D         P.31 Husholdningernes forbrugsudgifter\n",
      "P311AD          Køb af køretøjer\n",
      "P311B_3D        Andre varer\n",
      "P314A33S34D     Tjenester i alt inkl. turisme\n",
      "P314D           Tjenester i alt\n",
      "P33D            Turistudgifter\n",
      "P34D            Turistindtægter\n",
      "P31S15D         P.31 Forbrugsudgifter i non-profit institutioner rettet mod husholdninger (NPISH)\n",
      "P3S13D          P.3 Offentlige forbrugsudgifter\n",
      "P5GD            P.5g Bruttoinvesteringer\n",
      "P51GD           P.51g Faste bruttoinvesteringer\n",
      "P51GD_N111      N.111 Boliger\n",
      "P51GD_N112      N.112 Andre bygninger og anlæg\n",
      "P51GD_N11N      N.113-N.115 Maskiner, transportmidler mv.\n",
      "P51GD_N117      N.117 Intellektuelle rettigheder\n",
      "P52_53D         P.52+P.53 Lagerforøgelser mv.\n",
      "P52D            P.52 Lagerforøgelser\n",
      "P53D            P.53 Anskaffelser minus afhændelser af værdigenstande\n",
      "TFUPRXP6        Endelig indenlandsk anvendelse\n",
      "TFUPR           Endelig anvendelse i alt\n",
      "EMPH_DC         Samlede præsterede timer (mio. timer)\n",
      "EMPM_DC         Samlet antal beskæftigede (1000 personer)\n",
      "\n",
      "units:\n",
      "V_M        Løbende priser, (mia. kr.)\n",
      "LAN_M      2010-priser, kædede værdier, (mia. kr.)\n",
      "L_V        Realvækst i pct. i forhold til foregående periode\n",
      "V_C        Pr. indbygger, løbende priser, (1000 kr.)\n",
      "L_VB       Bidrag til realvækst i BNP, (procentpoint)\n",
      "LAN_C      Pr. indbygger, 2010-priser, kædede værdier, (1000 kr.)\n",
      "\n",
      "time:\n",
      "1966           \n",
      "1967           \n",
      "1968           \n",
      "1969           \n",
      "1970           \n",
      "1971           \n",
      "1972           \n",
      "1973           \n",
      "1974           \n",
      "1975           \n",
      "1976           \n",
      "1977           \n",
      "1978           \n",
      "1979           \n",
      "1980           \n",
      "1981           \n",
      "1982           \n",
      "1983           \n",
      "1984           \n",
      "1985           \n",
      "1986           \n",
      "1987           \n",
      "1988           \n",
      "1989           \n",
      "1990           \n",
      "1991           \n",
      "1992           \n",
      "1993           \n",
      "1994           \n",
      "1995           \n",
      "1996           \n",
      "1997           \n",
      "1998           \n",
      "1999           \n",
      "2000           \n",
      "2001           \n",
      "2002           \n",
      "2003           \n",
      "2004           \n",
      "2005           \n",
      "2006           \n",
      "2007           \n",
      "2008           \n",
      "2009           \n",
      "2010           \n",
      "2011           \n",
      "2012           \n",
      "2013           \n",
      "2014           \n",
      "2015           \n",
      "2016           \n",
      "2017           \n"
     ]
    }
   ],
   "source": [
    "dst.print_meta_data('Nan1')"
   ]
  }
 ],
 "metadata": {
  "kernelspec": {
   "display_name": "Python 3",
   "language": "python",
   "name": "python3"
  },
  "language_info": {
   "codemirror_mode": {
    "name": "ipython",
    "version": 3
   },
   "file_extension": ".py",
   "mimetype": "text/x-python",
   "name": "python",
   "nbconvert_exporter": "python",
   "pygments_lexer": "ipython3",
   "version": "3.6.5"
  },
  "toc": {
   "base_numbering": 1,
   "nav_menu": {},
   "number_sections": true,
   "sideBar": true,
   "skip_h1_title": false,
   "title_cell": "Table of Contents",
   "title_sidebar": "Contents",
   "toc_cell": true,
   "toc_position": {},
   "toc_section_display": true,
   "toc_window_display": false
  }
 },
 "nbformat": 4,
 "nbformat_minor": 2
}

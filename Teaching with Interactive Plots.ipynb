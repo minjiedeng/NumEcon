{
 "cells": [
  {
   "cell_type": "markdown",
   "metadata": {
    "slideshow": {
     "slide_type": "slide"
    }
   },
   "source": [
    "# Teaching with Interactive Plots"
   ]
  },
  {
   "cell_type": "markdown",
   "metadata": {
    "slideshow": {
     "slide_type": "notes"
    }
   },
   "source": [
    "**Description:** This is a Jupyter Notebook with Python code. You do not need any knowledge or either Jupyter or Python to run it.\n",
    "\n",
    "**To run all:** Kernel $\\rightarrow$ Restart & Run All\n",
    "\n",
    "**To run each cell press:**\n",
    "\n",
    "1. <kbd>Ctrl</kbd>+<kbd>Enter</kbd> to just run the cell\n",
    "2. <kbd>Ctrl</kbd>+<kbd>Shift</kbd>+<kbd>Enter</kbd> to the run the cell and proceed to the next"
   ]
  },
  {
   "cell_type": "code",
   "execution_count": 1,
   "metadata": {
    "code_folding": [
     0
    ],
    "slideshow": {
     "slide_type": "notes"
    }
   },
   "outputs": [],
   "source": [
    "# imports and settings\n",
    "%matplotlib inline\n",
    "import numpy as np\n",
    "import matplotlib.pyplot as plt\n",
    "import ipywidgets as widgets\n",
    "import numecon.course_descriptive_economics.dst as dst\n",
    "import numecon.course_macro1.solow as solow\n",
    "import numecon.course_macro1.asad as asad\n",
    "import numecon.course_micro1.budgetset as budgetset\n",
    "import numecon.course_micro1.utilitymax as utilitymax\n",
    "import numecon.course_micro1.slutsky as slutsky\n",
    "import numecon.course_micro1.edgeworth as edgeworth\n",
    "import numecon.course_probability_theory.stochasticvar as stochasticvar\n",
    "import numecon.course_probability_theory.conditional_probability as conditional_probability"
   ]
  },
  {
   "cell_type": "code",
   "execution_count": 2,
   "metadata": {
    "code_folding": [
     0
    ],
    "slideshow": {
     "slide_type": "notes"
    }
   },
   "outputs": [
    {
     "data": {
      "application/javascript": [
       "IPython.OutputArea.prototype._should_scroll = function(lines) {\n",
       "    return false;\n",
       "}"
      ],
      "text/plain": [
       "<IPython.core.display.Javascript object>"
      ]
     },
     "metadata": {},
     "output_type": "display_data"
    }
   ],
   "source": [
    "%%javascript\n",
    "IPython.OutputArea.prototype._should_scroll = function(lines) {\n",
    "    return false;\n",
    "}"
   ]
  },
  {
   "cell_type": "markdown",
   "metadata": {
    "slideshow": {
     "slide_type": "slide"
    }
   },
   "source": [
    "## Interactive Plots\n",
    "\n",
    "- **Comparative statics** is a central part of teaching economic models\n",
    "- **Example:** Microeconomics I (which I am teaching this fall)\n",
    "\n",
    "    1. change in *utility parameter* $\\rightarrow$ change in *indifference curves*\n",
    "    * change in *price* $\\rightarrow$ change in *budget set* and *demand*\n",
    "    * change in *endowments* $\\rightarrow$ change in *Walras equilibrium*\n",
    "\n",
    "\n",
    "- Typical approach: **Draw graphs for different sets of parameters**    \n",
    "- Problems: **Time consuming and easily clutters**\n",
    "- Enter: **Interactive plots** in Python + Jupyter Notebooks running *in the cloud* (no installation)\n",
    "- **Online-version:** [goo.gl/GQUJho](https://goo.gl/GQUJho)"
   ]
  },
  {
   "cell_type": "markdown",
   "metadata": {
    "slideshow": {
     "slide_type": "slide"
    }
   },
   "source": [
    "### Micro: Budgetset"
   ]
  },
  {
   "cell_type": "markdown",
   "metadata": {
    "cell_style": "split",
    "slideshow": {
     "slide_type": "-"
    }
   },
   "source": [
    "$$ \\{(x_1,x_2) \\in \\mathbb{R}_{+}^2 \\,\\, | \\,\\, p_1 x_1 + p_2 x_2 \\leq I\\} $$\n",
    "\n",
    "<br><br><br><br><br><br><br><br><br><br>\n",
    "**Online-version:** [goo.gl/GQUJho](https://goo.gl/GQUJho)"
   ]
  },
  {
   "cell_type": "code",
   "execution_count": 3,
   "metadata": {
    "cell_style": "split",
    "scrolled": true,
    "slideshow": {
     "slide_type": "-"
    }
   },
   "outputs": [
    {
     "data": {
      "application/vnd.jupyter.widget-view+json": {
       "model_id": "3e3873b82c984b51942903e779f72e5a",
       "version_major": 2,
       "version_minor": 0
      },
      "text/plain": [
       "interactive(children=(FloatSlider(value=2.0, description='$p_1$', max=5.0, min=0.1, step=0.05), FloatSlider(va…"
      ]
     },
     "metadata": {},
     "output_type": "display_data"
    }
   ],
   "source": [
    "budgetset.exogenous()"
   ]
  },
  {
   "cell_type": "markdown",
   "metadata": {
    "slideshow": {
     "slide_type": "slide"
    }
   },
   "source": [
    "### Micro: Budgetset in 3D"
   ]
  },
  {
   "cell_type": "markdown",
   "metadata": {
    "cell_style": "split",
    "slideshow": {
     "slide_type": "-"
    }
   },
   "source": [
    "$$ \\{(x_1,x_2,x_3) \\in \\mathbb{R}_{+}^3 \\,\\, | \\,\\, p_1 x_1 + p_2 x_2 + p_3 x_3 \\leq I\\} $$"
   ]
  },
  {
   "cell_type": "code",
   "execution_count": 4,
   "metadata": {
    "cell_style": "split",
    "scrolled": false,
    "slideshow": {
     "slide_type": "-"
    }
   },
   "outputs": [
    {
     "data": {
      "application/vnd.jupyter.widget-view+json": {
       "model_id": "63ca708ac61145d9a32b0d53da80294e",
       "version_major": 2,
       "version_minor": 0
      },
      "text/plain": [
       "interactive(children=(FloatSlider(value=1.0, description='$p_1$', max=5.0, min=0.1, step=0.05), FloatSlider(va…"
      ]
     },
     "metadata": {},
     "output_type": "display_data"
    }
   ],
   "source": [
    "budgetset.D3()"
   ]
  },
  {
   "cell_type": "markdown",
   "metadata": {
    "slideshow": {
     "slide_type": "slide"
    }
   },
   "source": [
    "### Micro: Utility Maximization - Quasi-Linear Utility"
   ]
  },
  {
   "cell_type": "markdown",
   "metadata": {
    "cell_style": "split",
    "slideshow": {
     "slide_type": "-"
    }
   },
   "source": [
    "Maximize\n",
    "\n",
    "$$u(x_1,x_2) = \\alpha\\log(x_1) + \\beta x_2$$\n",
    "\n",
    "subject to \n",
    "\n",
    "$$(x_1,x_2) \\in $$\n",
    "\n",
    "$$ \\{(x_1,x_2) \\in \\mathbb{R}_{+}^2 \\,\\, | \\,\\, p_1 x_1 + p_2 x_2 \\leq I\\} $$"
   ]
  },
  {
   "cell_type": "code",
   "execution_count": 5,
   "metadata": {
    "cell_style": "split",
    "scrolled": true,
    "slideshow": {
     "slide_type": "-"
    }
   },
   "outputs": [
    {
     "data": {
      "application/vnd.jupyter.widget-view+json": {
       "model_id": "8a9eee031e1c41869d99be7b444a3387",
       "version_major": 2,
       "version_minor": 0
      },
      "text/plain": [
       "interactive(children=(FloatSlider(value=1.0, description='$p_1$', max=4.0, min=0.05, step=0.05), FloatSlider(v…"
      ]
     },
     "metadata": {},
     "output_type": "display_data"
    }
   ],
   "source": [
    "utilitymax.quasi_linear_log()"
   ]
  },
  {
   "cell_type": "markdown",
   "metadata": {
    "slideshow": {
     "slide_type": "slide"
    }
   },
   "source": [
    "### Micro: Utility Maximization - Saturated"
   ]
  },
  {
   "cell_type": "markdown",
   "metadata": {
    "cell_style": "split",
    "slideshow": {
     "slide_type": "-"
    }
   },
   "source": [
    "Maximize\n",
    "\n",
    "$$ u(x_1,x_2) = -(x_1-\\alpha)^2 - (x_2-\\beta)^2 $$\n",
    "\n",
    "subject to \n",
    "\n",
    "$$(x_1,x_2) \\in $$\n",
    "\n",
    "$$ \\{(x_1,x_2) \\in \\mathbb{R}_{+}^2 \\,\\, | \\,\\, p_1 x_1 + p_2 x_2 \\leq I\\} $$"
   ]
  },
  {
   "cell_type": "code",
   "execution_count": 6,
   "metadata": {
    "cell_style": "split",
    "scrolled": false,
    "slideshow": {
     "slide_type": "-"
    }
   },
   "outputs": [
    {
     "data": {
      "application/vnd.jupyter.widget-view+json": {
       "model_id": "5e230ea450a347cf89a8f3baa3dcea66",
       "version_major": 2,
       "version_minor": 0
      },
      "text/plain": [
       "interactive(children=(FloatSlider(value=1.0, description='$p_1$', max=4.0, min=0.05, step=0.05), FloatSlider(v…"
      ]
     },
     "metadata": {},
     "output_type": "display_data"
    }
   ],
   "source": [
    "  "
   ]
  },
  {
   "cell_type": "markdown",
   "metadata": {
    "slideshow": {
     "slide_type": "slide"
    }
   },
   "source": [
    "### Micro: Substitution- and Income Effects"
   ]
  },
  {
   "cell_type": "markdown",
   "metadata": {
    "cell_style": "split",
    "slideshow": {
     "slide_type": "-"
    }
   },
   "source": [
    "Maximize\n",
    "\n",
    "$$u(x_1,x_2) = (\\alpha x_1^{-\\beta}+(1-\\alpha)x_2^{-\\beta})^{-1/\\beta}$$\n",
    "\n",
    "subject to \n",
    "\n",
    "$$(x_1,x_2) \\in $$\n",
    "\n",
    "$$ \\{(x_1,x_2) \\in \\mathbb{R}_{+}^2 \\,\\, | \\,\\, p_1 x_1 + p_2 x_2 \\leq I\\} $$\n",
    "\n",
    "We normalize with $p_2 = 1$.\n",
    "\n",
    "We consider a change in $p_1 \\rightarrow p_1^{\\prime}$."
   ]
  },
  {
   "cell_type": "code",
   "execution_count": 7,
   "metadata": {
    "cell_style": "split",
    "scrolled": false,
    "slideshow": {
     "slide_type": "-"
    }
   },
   "outputs": [
    {
     "data": {
      "application/vnd.jupyter.widget-view+json": {
       "model_id": "d3d6e92699f340a88e12f21c10106c2c",
       "version_major": 2,
       "version_minor": 0
      },
      "text/plain": [
       "interactive(children=(IntSlider(value=1, description='steps', max=3, min=1), FloatSlider(value=1.0, descriptio…"
      ]
     },
     "metadata": {},
     "output_type": "display_data"
    }
   ],
   "source": [
    "slutsky.ces()"
   ]
  },
  {
   "cell_type": "markdown",
   "metadata": {
    "slideshow": {
     "slide_type": "slide"
    }
   },
   "source": [
    "## Edgeworth: Find Your Inner Auctioneer"
   ]
  },
  {
   "cell_type": "markdown",
   "metadata": {
    "cell_style": "split"
   },
   "source": [
    "We consider a normalized Edgeworth-economy where $e_1 = e_2 = 1$.\n",
    "\n",
    "$\\omega_1$ and $\\omega_2$ are the shares of good 1 and 2 held by consumer $A$. \n",
    "\n",
    "Both consumers have CES preferences:\n",
    "\n",
    "$$u(x_1,x_2) = (\\alpha x_1^{-\\beta}+(1-\\alpha)x_2^{-\\beta})^{-1/\\beta}$$\n",
    "\n",
    " We normalize $p_2 = 1$."
   ]
  },
  {
   "cell_type": "code",
   "execution_count": 8,
   "metadata": {
    "cell_style": "split",
    "scrolled": false
   },
   "outputs": [
    {
     "data": {
      "application/vnd.jupyter.widget-view+json": {
       "model_id": "bba76506d1da47068c5938ecb72129aa",
       "version_major": 2,
       "version_minor": 0
      },
      "text/plain": [
       "interactive(children=(BoundedFloatText(value=2.0, description='$p_1$', max=4.0, min=0.05, step=0.05), FloatSli…"
      ]
     },
     "metadata": {},
     "output_type": "display_data"
    }
   ],
   "source": [
    "edgeworth.ces()"
   ]
  },
  {
   "cell_type": "markdown",
   "metadata": {
    "slideshow": {
     "slide_type": "slide"
    }
   },
   "source": [
    "### Statistics: Stochastic Variable"
   ]
  },
  {
   "cell_type": "code",
   "execution_count": 9,
   "metadata": {
    "cell_style": "split",
    "scrolled": true,
    "slideshow": {
     "slide_type": "-"
    }
   },
   "outputs": [
    {
     "data": {
      "application/vnd.jupyter.widget-view+json": {
       "model_id": "09206ace0ce34accb0a3fac646ba78a0",
       "version_major": 2,
       "version_minor": 0
      },
      "text/plain": [
       "interactive(children=(IntSlider(value=1, description='rolls', max=150, min=1), Button(description='Roll!', sty…"
      ]
     },
     "metadata": {},
     "output_type": "display_data"
    }
   ],
   "source": [
    "stochasticvar.dice() # rolls two dice"
   ]
  },
  {
   "cell_type": "code",
   "execution_count": 10,
   "metadata": {
    "cell_style": "split",
    "scrolled": true,
    "slideshow": {
     "slide_type": "-"
    }
   },
   "outputs": [
    {
     "data": {
      "application/vnd.jupyter.widget-view+json": {
       "model_id": "6e9bf10068ca4b7d93d20facfc676fcf",
       "version_major": 2,
       "version_minor": 0
      },
      "text/plain": [
       "interactive(children=(IntSlider(value=50, description='rolls', max=50000, min=50, step=50), Output()), _dom_cl…"
      ]
     },
     "metadata": {},
     "output_type": "display_data"
    }
   ],
   "source": [
    "stochasticvar.dice_density() # rolls two dice"
   ]
  },
  {
   "cell_type": "markdown",
   "metadata": {
    "slideshow": {
     "slide_type": "slide"
    }
   },
   "source": [
    "### Statistics: Conditional Probability"
   ]
  },
  {
   "cell_type": "code",
   "execution_count": 11,
   "metadata": {
    "scrolled": false,
    "slideshow": {
     "slide_type": "-"
    }
   },
   "outputs": [
    {
     "data": {
      "application/vnd.jupyter.widget-view+json": {
       "model_id": "0988204bf7c34536aa15bb94d4565226",
       "version_major": 2,
       "version_minor": 0
      },
      "text/plain": [
       "interactive(children=(FloatSlider(value=0.75, description='$\\\\rho$', max=0.99, min=-0.99, step=0.05), FloatSli…"
      ]
     },
     "metadata": {},
     "output_type": "display_data"
    }
   ],
   "source": [
    "conditional_probability.bivariate_normal_standard()"
   ]
  },
  {
   "cell_type": "markdown",
   "metadata": {
    "slideshow": {
     "slide_type": "slide"
    }
   },
   "source": [
    "### Descriptive Economics: DST"
   ]
  },
  {
   "cell_type": "code",
   "execution_count": 12,
   "metadata": {
    "scrolled": true,
    "slideshow": {
     "slide_type": "-"
    }
   },
   "outputs": [
    {
     "data": {
      "application/vnd.jupyter.widget-view+json": {
       "model_id": "f31bae915d32441297b2a66899ee6bfd",
       "version_major": 2,
       "version_minor": 0
      },
      "text/plain": [
       "interactive(children=(Dropdown(description='variable', options=('GDP', 'Investment'), value='GDP'), RadioButto…"
      ]
     },
     "metadata": {},
     "output_type": "display_data"
    }
   ],
   "source": [
    "dst.plot() # load online data directly from Statistikbanken.dk"
   ]
  },
  {
   "cell_type": "markdown",
   "metadata": {
    "slideshow": {
     "slide_type": "slide"
    }
   },
   "source": [
    "## Code Behind"
   ]
  },
  {
   "cell_type": "code",
   "execution_count": 13,
   "metadata": {
    "cell_style": "split",
    "scrolled": false,
    "slideshow": {
     "slide_type": "fragment"
    }
   },
   "outputs": [
    {
     "data": {
      "image/png": "[encoded data removed]",
      "text/plain": [
       "<Figure size 800x600 with 1 Axes>"
      ]
     },
     "metadata": {},
     "output_type": "display_data"
    }
   ],
   "source": [
    "def f(α): # standard Python function for plotting\n",
    "    x = np.linspace(-10, 10, num=1000)    \n",
    "    y = np.sin(α*x)\n",
    "    plt.figure(figsize=(8,6),dpi=100)   \n",
    "    plt.plot(x,y)\n",
    "    plt.ylim(-5, 5)\n",
    "    plt.show()\n",
    "   \n",
    "α = 1\n",
    "f(α)"
   ]
  },
  {
   "cell_type": "code",
   "execution_count": 17,
   "metadata": {
    "cell_style": "split",
    "slideshow": {
     "slide_type": "fragment"
    }
   },
   "outputs": [
    {
     "data": {
      "application/vnd.jupyter.widget-view+json": {
       "model_id": "dca74002f64f445bb5f23ce8af5ae535",
       "version_major": 2,
       "version_minor": 0
      },
      "text/plain": [
       "interactive(children=(FloatSlider(value=0.0, description='α', max=2.0, min=-2.0), Output()), _dom_classes=('wi…"
      ]
     },
     "metadata": {},
     "output_type": "display_data"
    }
   ],
   "source": [
    "# additional lines of code\n",
    "interactive_plot = widgets.interactive(f, α=(-2.0, 2.0))\n",
    "interactive_plot"
   ]
  },
  {
   "cell_type": "markdown",
   "metadata": {
    "slideshow": {
     "slide_type": "slide"
    }
   },
   "source": [
    "### Dropbox menu"
   ]
  },
  {
   "cell_type": "code",
   "execution_count": 15,
   "metadata": {
    "cell_style": "split",
    "slideshow": {
     "slide_type": "-"
    }
   },
   "outputs": [
    {
     "data": {
      "image/png": "[encoded data removed]",
      "text/plain": [
       "<Figure size 800x600 with 1 Axes>"
      ]
     },
     "metadata": {},
     "output_type": "display_data"
    }
   ],
   "source": [
    "# standard Python function for plotting\n",
    "def h(g,α):\n",
    "    x = np.linspace(-10, 10, num=1000)    \n",
    "    if g == 'sin':\n",
    "        y = np.sin(α*x)\n",
    "    elif g == 'cos':\n",
    "        y = np.cos(α*x)\n",
    "    plt.figure(figsize=(8,6),dpi=100)   \n",
    "    plt.plot(x,y)\n",
    "    plt.ylim(-5, 5)\n",
    "    plt.show()  \n",
    "   \n",
    "α = 1\n",
    "g = 'sin'\n",
    "h(g,α)"
   ]
  },
  {
   "cell_type": "code",
   "execution_count": 16,
   "metadata": {
    "cell_style": "split",
    "scrolled": true
   },
   "outputs": [
    {
     "data": {
      "application/vnd.jupyter.widget-view+json": {
       "model_id": "ea17c1e7d5cf4c2387067375a1bb6f85",
       "version_major": 2,
       "version_minor": 0
      },
      "text/plain": [
       "interactive(children=(Dropdown(description='g', options=('sin', 'cos'), value='sin'), FloatSlider(value=0.0, d…"
      ]
     },
     "metadata": {},
     "output_type": "display_data"
    }
   ],
   "source": [
    "# additional lines of code\n",
    "interactive_plot = widgets.interactive(h, g=['sin','cos'], α=(-2.0, 2.0))\n",
    "interactive_plot "
   ]
  },
  {
   "cell_type": "markdown",
   "metadata": {
    "slideshow": {
     "slide_type": "slide"
    }
   },
   "source": [
    "## No Installation Required!"
   ]
  },
  {
   "cell_type": "markdown",
   "metadata": {
    "slideshow": {
     "slide_type": "-"
    }
   },
   "source": [
    "- **Now:** I am running it on my laptop\n",
    "- **If Python not installed:** run it online on [mybinder.org](https://mybinder.org) \n",
    "- **Today's examples**: [goo.gl/GQUJho](https://goo.gl/GQUJho)\n",
    "- **Code** online at GitHub: [github.com/JeppeDruedahl/NumEcon](https://github.com/JeppeDruedahl/NumEcon)"
   ]
  },
  {
   "cell_type": "markdown",
   "metadata": {
    "slideshow": {
     "slide_type": "slide"
    }
   },
   "source": [
    "## Student Labour\n",
    "\n",
    "- New course spring 2019: **Introduction to programming and numerical analysis**\n",
    "- The **students will learn**\n",
    "    1. Solving simple economic models from the bachelor courses\n",
    "    2. Producing plots of their solutions\n",
    "    3. Making these plots interactive\n",
    "    \n",
    "    \n",
    "- **Exam**: Model analysis project with \"free\" choice of topic\n",
    "- **You need an interactive plot for your course?** This could be a student exam project"
   ]
  },
  {
   "cell_type": "markdown",
   "metadata": {
    "slideshow": {
     "slide_type": "slide"
    }
   },
   "source": [
    "# Thank you for your attention"
   ]
  },
  {
   "cell_type": "markdown",
   "metadata": {
    "slideshow": {
     "slide_type": "notes"
    }
   },
   "source": [
    "**Notes on using rise:**\n",
    "\n",
    "- **Installation** from Anaconda Prompt:\n",
    "\n",
    "    1. conda install -c damianavila82 rise\n",
    "    *  jupyter nbextension enable splitcell/splitcell\n",
    "\n",
    "\n",
    "- **Work flow**:\n",
    "\n",
    "    1. Kernel $\\rightarrow$ Restart & Run All\n",
    "    * View $\\rightarrow$ Cell Toolbar $\\rightarrow$  Slideshow\n",
    "    * Slide $\\rightarrow$  start new slide\n",
    "    * (empty) $\\rightarrow$  show without click\n",
    "    * fragment $\\rightarrow$  show after click\n",
    "    * skip $\\rightarrow$  skip :)\n",
    "\n",
    "\n",
    "- **Slideshow**:\n",
    "\n",
    "    1. Begin/end: <kbd>Alt</kbd>+<kbd>R</kbd>\n",
    "    * Forwards: <kbd>Space</kbd>\n",
    "    * Backwards <kbd>Shift</kbd>+<kbd>Space\n",
    "    * Zoom: <kbd>Ctrl+</kbd> and <kbd>Ctrl-</kbd>\n",
    "\n",
    "\n",
    "- **Adavanced**: Edit $\\rightarrow$ Edit Notebook Metadata \n",
    "\n",
    "\n",
    "- **PDF**: \n",
    "\n",
    "    1. jupyter nbconvert --to slides your_talk.ipynb --post serve\n",
    "    * It opens up a webpage in the browser at http://127.0.0.1:8000/your_talk.slides.html#/\n",
    "    * Add ?print-pdf to the query string as http://127.0.0.1:8000/your_talk.slides.html?print-pdf"
   ]
  }
 ],
 "metadata": {
  "celltoolbar": "Slideshow",
  "kernelspec": {
   "display_name": "Python 3",
   "language": "python",
   "name": "python3"
  },
  "language_info": {
   "codemirror_mode": {
    "name": "ipython",
    "version": 3
   },
   "file_extension": ".py",
   "mimetype": "text/x-python",
   "name": "python",
   "nbconvert_exporter": "python",
   "pygments_lexer": "ipython3",
   "version": "3.6.5"
  },
  "rise": {},
  "toc": {
   "base_numbering": 1,
   "nav_menu": {},
   "number_sections": true,
   "sideBar": true,
   "skip_h1_title": true,
   "title_cell": "Table of Contents",
   "title_sidebar": "Contents",
   "toc_cell": false,
   "toc_position": {},
   "toc_section_display": false,
   "toc_window_display": false
  }
 },
 "nbformat": 4,
 "nbformat_minor": 2
}

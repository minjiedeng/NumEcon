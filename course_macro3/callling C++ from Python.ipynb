{
 "cells": [
  {
   "cell_type": "markdown",
   "metadata": {
    "toc": true
   },
   "source": [
    "<h1>Table of Contents<span class=\"tocSkip\"></span></h1>\n",
    "<div class=\"toc\"><ul class=\"toc-item\"><li><span><a href=\"#Import\" data-toc-modified-id=\"Import-1\"><span class=\"toc-item-num\">1&nbsp;&nbsp;</span>Import</a></span></li><li><span><a href=\"#Compile\" data-toc-modified-id=\"Compile-2\"><span class=\"toc-item-num\">2&nbsp;&nbsp;</span>Compile</a></span></li><li><span><a href=\"#Link\" data-toc-modified-id=\"Link-3\"><span class=\"toc-item-num\">3&nbsp;&nbsp;</span>Link</a></span><ul class=\"toc-item\"><li><span><a href=\"#Define-struct\" data-toc-modified-id=\"Define-struct-3.1\"><span class=\"toc-item-num\">3.1&nbsp;&nbsp;</span>Define struct</a></span></li><li><span><a href=\"#Link\" data-toc-modified-id=\"Link-3.2\"><span class=\"toc-item-num\">3.2&nbsp;&nbsp;</span>Link</a></span></li><li><span><a href=\"#Wrappers\" data-toc-modified-id=\"Wrappers-3.3\"><span class=\"toc-item-num\">3.3&nbsp;&nbsp;</span>Wrappers</a></span></li></ul></li><li><span><a href=\"#Run\" data-toc-modified-id=\"Run-4\"><span class=\"toc-item-num\">4&nbsp;&nbsp;</span>Run</a></span></li><li><span><a href=\"#Memory\" data-toc-modified-id=\"Memory-5\"><span class=\"toc-item-num\">5&nbsp;&nbsp;</span>Memory</a></span></li><li><span><a href=\"#NLopt\" data-toc-modified-id=\"NLopt-6\"><span class=\"toc-item-num\">6&nbsp;&nbsp;</span>NLopt</a></span></li><li><span><a href=\"#OpenMP\" data-toc-modified-id=\"OpenMP-7\"><span class=\"toc-item-num\">7&nbsp;&nbsp;</span>OpenMP</a></span></li></ul></div>"
   ]
  },
  {
   "cell_type": "markdown",
   "metadata": {},
   "source": [
    "# Import"
   ]
  },
  {
   "cell_type": "code",
   "execution_count": 1,
   "metadata": {
    "ExecuteTime": {
     "end_time": "2018-06-06T12:00:39.838948Z",
     "start_time": "2018-06-06T12:00:39.771941Z"
    }
   },
   "outputs": [],
   "source": [
    "# magics and imports\n",
    "%matplotlib inline\n",
    "%load_ext autoreload\n",
    "%autoreload 1\n",
    "\n",
    "# a. external\n",
    "import os\n",
    "import time\n",
    "import copy\n",
    "import ctypes as ct\n",
    "from types import SimpleNamespace\n",
    "import numpy as np\n",
    "from mpl_toolkits.mplot3d import axes3d\n",
    "import matplotlib.pyplot as plt\n",
    "plt.rcParams.update({'font.size': 10, 'font.family': 'STIXGeneral', 'mathtext.fontset': 'stix'})\n",
    "\n",
    "# b. internal\n",
    "import converter"
   ]
  },
  {
   "cell_type": "code",
   "execution_count": 2,
   "metadata": {
    "code_folding": [
     0
    ]
   },
   "outputs": [
    {
     "data": {
      "text/html": [
       "<style>\n",
       ".output_wrapper, .output {\n",
       "    height:auto !important;\n",
       "    max-height:5000px;  /* your desired max-height here */\n",
       "}\n",
       ".output_scroll {\n",
       "    box-shadow:none !important;\n",
       "    webkit-box-shadow:none !important;\n",
       "}\n",
       "</style>"
      ],
      "text/plain": [
       "<IPython.core.display.HTML object>"
      ]
     },
     "metadata": {},
     "output_type": "display_data"
    }
   ],
   "source": [
    "%%html\n",
    "<style>\n",
    ".output_wrapper, .output {\n",
    "    height:auto !important;\n",
    "    max-height:5000px;  /* your desired max-height here */\n",
    "}\n",
    ".output_scroll {\n",
    "    box-shadow:none !important;\n",
    "    webkit-box-shadow:none !important;\n",
    "}\n",
    "</style>"
   ]
  },
  {
   "cell_type": "code",
   "execution_count": 3,
   "metadata": {},
   "outputs": [],
   "source": [
    "def print_file(filename):\n",
    "    with open(filename, 'r') as f:\n",
    "        print(f.read())"
   ]
  },
  {
   "cell_type": "code",
   "execution_count": 4,
   "metadata": {},
   "outputs": [],
   "source": [
    "def clean():\n",
    "    dir_name = os.getcwd()\n",
    "    test = os.listdir(dir_name)\n",
    "    for item in test:\n",
    "        exts = ['.exe','.lib','.exp','.obj']\n",
    "        for ext in exts:\n",
    "            if item.endswith(ext):\n",
    "                os.remove(os.path.join(dir_name, item))"
   ]
  },
  {
   "cell_type": "markdown",
   "metadata": {},
   "source": [
    "# Compile"
   ]
  },
  {
   "cell_type": "markdown",
   "metadata": {},
   "source": [
    "Set libraries to none:"
   ]
  },
  {
   "cell_type": "code",
   "execution_count": 5,
   "metadata": {},
   "outputs": [],
   "source": [
    "msvs_lib = None\n",
    "intel_lib = None"
   ]
  },
  {
   "cell_type": "markdown",
   "metadata": {},
   "source": [
    "Define delinker:"
   ]
  },
  {
   "cell_type": "code",
   "execution_count": 6,
   "metadata": {},
   "outputs": [],
   "source": [
    "def delink_cpp(mylib):\n",
    "    \n",
    "    if mylib == None:\n",
    "        return mylib\n",
    "\n",
    "    # 1. get handle\n",
    "    handle = mylib._handle\n",
    "    \n",
    "    # 2. delete linking variable\n",
    "    del mylib\n",
    "    mylib = None\n",
    "\n",
    "    # 3. free handle\n",
    "    ct.windll.kernel32.FreeLibrary.argtypes = [ct.wintypes.HMODULE]\n",
    "    ct.windll.kernel32.FreeLibrary(handle)\n",
    "    \n",
    "    print('delinked')\n",
    "    \n",
    "    return mylib"
   ]
  },
  {
   "cell_type": "markdown",
   "metadata": {},
   "source": [
    "**Compile with MSVC**"
   ]
  },
  {
   "cell_type": "code",
   "execution_count": 7,
   "metadata": {
    "ExecuteTime": {
     "end_time": "2018-06-06T12:00:39.975962Z",
     "start_time": "2018-06-06T12:00:39.971961Z"
    },
    "scrolled": true
   },
   "outputs": [
    {
     "name": "stdout",
     "output_type": "stream",
     "text": [
      "cd \"C:\\Program Files (x86)\\Microsoft Visual Studio\\2017\\Community\\VC\\Auxiliary\\Build\\\"\n",
      "call vcvarsall.bat x64\n",
      "cd \"C:\\Users\\okoJD\\Dropbox\\CodeExamples\\ctypes\"\n",
      "cl /LD /Ox test.cpp\n"
     ]
    }
   ],
   "source": [
    "msvs_lib = delink_cpp(msvs_lib)\n",
    "filename = 'compile_msvc.bat'\n",
    "print_file(filename)\n",
    "os.system(filename) # produce .dll file\n",
    "\n",
    "# clean up\n",
    "clean()"
   ]
  },
  {
   "cell_type": "markdown",
   "metadata": {},
   "source": [
    "**Compile with Intel**"
   ]
  },
  {
   "cell_type": "code",
   "execution_count": 8,
   "metadata": {
    "scrolled": true
   },
   "outputs": [
    {
     "name": "stdout",
     "output_type": "stream",
     "text": [
      "call \"C:\\Program Files (x86)\\IntelSWTools\\compilers_and_libraries_2017.6.270\\windows\\bin\\ipsxe-comp-vars.bat\" intel64 vs2017\n",
      "icl /O3 test.cpp\n",
      "xilink -nologo -dll -out:test_intel.dll test.obj\n"
     ]
    }
   ],
   "source": [
    "intel_lib = delink_cpp(intel_lib)\n",
    "filename = 'compile_intel.bat'\n",
    "print_file(filename)\n",
    "os.system(filename) # produce .dll file\n",
    "\n",
    "# clean up\n",
    "clean()"
   ]
  },
  {
   "cell_type": "markdown",
   "metadata": {},
   "source": [
    "# Link"
   ]
  },
  {
   "cell_type": "markdown",
   "metadata": {},
   "source": [
    "## Define struct"
   ]
  },
  {
   "cell_type": "markdown",
   "metadata": {},
   "source": [
    "Create a Python version of the C++ struct:"
   ]
  },
  {
   "cell_type": "code",
   "execution_count": 9,
   "metadata": {
    "scrolled": false
   },
   "outputs": [],
   "source": [
    "class par_struct(ct.Structure):\n",
    "    filename = 'test.cpp'\n",
    "    struct_name = 'par_struct'\n",
    "    var_type_str_list = ['int','double']\n",
    "    _fields_ = converter.get_fields(filename,struct_name,var_type_str_list)"
   ]
  },
  {
   "cell_type": "markdown",
   "metadata": {},
   "source": [
    "Print the contents:"
   ]
  },
  {
   "cell_type": "code",
   "execution_count": 10,
   "metadata": {},
   "outputs": [
    {
     "name": "stdout",
     "output_type": "stream",
     "text": [
      "('n', <class 'ctypes.c_long'>)\n",
      "('a', <class 'converter.LP_c_double'>)\n",
      "('b', <class 'converter.LP_c_double'>)\n",
      "('c', <class 'converter.LP_c_double'>)\n"
     ]
    }
   ],
   "source": [
    "for field in par_struct._fields_:\n",
    "    print(field)"
   ]
  },
  {
   "cell_type": "markdown",
   "metadata": {},
   "source": [
    "## Link"
   ]
  },
  {
   "cell_type": "code",
   "execution_count": 11,
   "metadata": {
    "ExecuteTime": {
     "end_time": "2018-06-06T12:01:10.198766Z",
     "start_time": "2018-06-06T12:01:10.126759Z"
    },
    "code_folding": []
   },
   "outputs": [],
   "source": [
    "# a. link\n",
    "msvc_lib = ct.cdll.LoadLibrary('test.dll') # load .dll file\n",
    "\n",
    "# b. result and argument types\n",
    "msvc_lib.square_array.restype = None     \n",
    "msvc_lib.square_array.argtypes = [ct.POINTER(par_struct)]"
   ]
  },
  {
   "cell_type": "code",
   "execution_count": 12,
   "metadata": {},
   "outputs": [
    {
     "name": "stdout",
     "output_type": "stream",
     "text": [
      "<CDLL 'test.dll', handle 7ffbf8140000 at 0x1ecd28667b8>\n"
     ]
    }
   ],
   "source": [
    "print(msvc_lib)"
   ]
  },
  {
   "cell_type": "code",
   "execution_count": 13,
   "metadata": {},
   "outputs": [],
   "source": [
    "# a. link\n",
    "intel_lib = ct.cdll.LoadLibrary('test_intel.dll') # load .dll file\n",
    "\n",
    "# b. result and argument types\n",
    "intel_lib.square_array.restype = None     \n",
    "intel_lib.square_array.argtypes = [ct.POINTER(par_struct)]"
   ]
  },
  {
   "cell_type": "code",
   "execution_count": 14,
   "metadata": {},
   "outputs": [
    {
     "name": "stdout",
     "output_type": "stream",
     "text": [
      "<CDLL 'test_intel.dll', handle 7ffbf70f0000 at 0x1ecd2866a58>\n"
     ]
    }
   ],
   "source": [
    "print(intel_lib)"
   ]
  },
  {
   "cell_type": "markdown",
   "metadata": {},
   "source": [
    "## Wrappers"
   ]
  },
  {
   "cell_type": "code",
   "execution_count": 15,
   "metadata": {},
   "outputs": [],
   "source": [
    "# c. wrapper     \n",
    "def square_array(par, intel=False):\n",
    "    \n",
    "    p_par = converter.get_pointers(par,par_struct)    \n",
    "    if intel:\n",
    "        msvc_lib.square_array(ct.byref(p_par))\n",
    "    else:\n",
    "        intel_lib.square_array(ct.byref(p_par))\n",
    "                    \n",
    "    # access newly allocated memory\n",
    "    par.c = np.ctypeslib.as_array(p_par.c, shape=(par.n,))\n",
    "    \n",
    "    # d. print\n",
    "    print('a:')\n",
    "    for i in range(par.n):\n",
    "        print(' {:2d}{:8.0f}'.format(i,par.a[i]))\n",
    "\n",
    "    print('b:')\n",
    "    for i in range(par.n):\n",
    "        print(' {:2d}{:8.0f}'.format(i,par.b[i]))\n",
    "\n",
    "    print('c:')\n",
    "    for i in range(par.n):\n",
    "        print(' {:2d}{:8.0f}'.format(i,par.c[i]))   \n",
    "        \n",
    "def clear_mem(par, intel=False):\n",
    "    \n",
    "    p_par = converter.get_pointers(par,par_struct)    \n",
    "    if intel:\n",
    "        msvc_lib.clear_mem(ct.byref(p_par))\n",
    "    else:\n",
    "        intel_lib.clear_mem(ct.byref(p_par))"
   ]
  },
  {
   "cell_type": "markdown",
   "metadata": {},
   "source": [
    "# Run"
   ]
  },
  {
   "cell_type": "code",
   "execution_count": 16,
   "metadata": {
    "ExecuteTime": {
     "end_time": "2018-06-06T12:01:19.940404Z",
     "start_time": "2018-06-06T12:01:19.932403Z"
    },
    "scrolled": false
   },
   "outputs": [
    {
     "name": "stdout",
     "output_type": "stream",
     "text": [
      "msvc\n",
      "a:\n",
      "  0       1\n",
      "  1       6\n",
      "  2      10\n",
      "  3      15\n",
      "  4      20\n",
      "b:\n",
      "  0       1\n",
      "  1      33\n",
      "  2     110\n",
      "  3     233\n",
      "  4     400\n",
      "c:\n",
      "  0      11\n",
      "  1      43\n",
      "  2     120\n",
      "  3     243\n",
      "  4     410\n",
      "\n",
      "intel\n",
      "a:\n",
      "  0       1\n",
      "  1       6\n",
      "  2      10\n",
      "  3      15\n",
      "  4      20\n",
      "b:\n",
      "  0       1\n",
      "  1      33\n",
      "  2     110\n",
      "  3     233\n",
      "  4     400\n",
      "c:\n",
      "  0      11\n",
      "  1      43\n",
      "  2     120\n",
      "  3     243\n",
      "  4     410\n"
     ]
    }
   ],
   "source": [
    "# a. define\n",
    "par = dict()\n",
    "par = SimpleNamespace(**par)\n",
    "\n",
    "# b. set values\n",
    "par.n = 5\n",
    "par.a = np.linspace(1.0,20.0,par.n,dtype=np.float64)\n",
    "par.b = np.zeros(par.n,dtype=np.float64)\n",
    "par.c = np.zeros(0,dtype=np.float64)\n",
    "\n",
    "par_intel = copy.deepcopy(par)\n",
    "\n",
    "# c. msvc\n",
    "print('msvc')\n",
    "square_array(par)\n",
    "\n",
    "print('')\n",
    "print('intel')\n",
    "square_array(par_intel,intel=True)"
   ]
  },
  {
   "cell_type": "markdown",
   "metadata": {},
   "source": [
    "# Memory"
   ]
  },
  {
   "cell_type": "markdown",
   "metadata": {},
   "source": [
    "The memory of par.c is the memory we originally allocated in C++."
   ]
  },
  {
   "cell_type": "code",
   "execution_count": 17,
   "metadata": {},
   "outputs": [
    {
     "name": "stdout",
     "output_type": "stream",
     "text": [
      "[ 11.      43.0625 120.25   242.5625 410.    ]\n",
      "[ 11.      43.0625 120.25   242.5625 410.    ]\n"
     ]
    }
   ],
   "source": [
    "print(par.c)\n",
    "clear_mem(par)\n",
    "time.sleep(2)\n",
    "print(par.c)"
   ]
  },
  {
   "cell_type": "markdown",
   "metadata": {},
   "source": [
    "# NLopt"
   ]
  },
  {
   "cell_type": "code",
   "execution_count": 18,
   "metadata": {},
   "outputs": [
    {
     "name": "stdout",
     "output_type": "stream",
     "text": [
      "found minimum at f(0.21825,0.38175) = 0.03134113069\n",
      "time:  0.30, inside  0.30, evals = 443\n",
      "delinked\n"
     ]
    }
   ],
   "source": [
    "# a. compile\n",
    "filename = 'compile_intel_nlopt.bat'\n",
    "os.system(filename)\n",
    "clean()\n",
    "          \n",
    "# b. link\n",
    "intel_lib_nlopt = ct.cdll.LoadLibrary('test_intel_nlopt.dll') # load .dll file\n",
    "\n",
    "# c. result and argument types\n",
    "intel_lib_nlopt.optimize.restype = None     \n",
    "intel_lib_nlopt.optimize.argtypes = None\n",
    "\n",
    "# d. run\n",
    "intel_lib_nlopt.optimize()\n",
    "print_file('log_nlopt.txt')\n",
    "\n",
    "# e. deling\n",
    "intel_lib_nlopt = delink_cpp(intel_lib_nlopt)"
   ]
  },
  {
   "cell_type": "markdown",
   "metadata": {},
   "source": [
    "# OpenMP"
   ]
  },
  {
   "cell_type": "code",
   "execution_count": 19,
   "metadata": {},
   "outputs": [
    {
     "name": "stdout",
     "output_type": "stream",
     "text": [
      "task = (3,0) handled by thread = 3\n",
      "task = (2,0) handled by thread = 2\n",
      "task = (1,0) handled by thread = 1\n",
      "task = (0,0) handled by thread = 0\n",
      "task = (3,1) handled by thread = 3\n",
      "task = (2,1) handled by thread = 2\n",
      "task = (1,1) handled by thread = 1\n",
      "task = (0,1) handled by thread = 0\n",
      "task = (3,2) handled by thread = 3\n",
      "task = (2,2) handled by thread = 2\n",
      "task = (1,2) handled by thread = 1\n",
      "task = (0,2) handled by thread = 0\n",
      "task = (3,3) handled by thread = 3\n",
      "task = (2,3) handled by thread = 2\n",
      "task = (1,3) handled by thread = 1\n",
      "task = (0,3) handled by thread = 0\n",
      "\n",
      "delinked\n"
     ]
    }
   ],
   "source": [
    "# a. compile\n",
    "filename = 'compile_intel_openmp.bat'\n",
    "os.system(filename)\n",
    "clean()\n",
    "\n",
    "# b. link\n",
    "intel_lib_openmp = ct.cdll.LoadLibrary('test_intel_openmp.dll') # load .dll file\n",
    "\n",
    "# c. result and argument types\n",
    "intel_lib_openmp.parallize.restype = None     \n",
    "intel_lib_openmp.parallize.argtypes = None\n",
    "\n",
    "# d. run\n",
    "intel_lib_openmp.parallize()\n",
    "print_file('log_openmp.txt')\n",
    "\n",
    "# e. deling\n",
    "intel_lib_openmp = delink_cpp(intel_lib_openmp)"
   ]
  }
 ],
 "metadata": {
  "kernelspec": {
   "display_name": "Python 3",
   "language": "python",
   "name": "python3"
  },
  "language_info": {
   "codemirror_mode": {
    "name": "ipython",
    "version": 3
   },
   "file_extension": ".py",
   "mimetype": "text/x-python",
   "name": "python",
   "nbconvert_exporter": "python",
   "pygments_lexer": "ipython3",
   "version": "3.6.5"
  },
  "latex_envs": {
   "LaTeX_envs_menu_present": true,
   "autocomplete": true,
   "bibliofile": "biblio.bib",
   "cite_by": "apalike",
   "current_citInitial": 1,
   "eqLabelWithNumbers": true,
   "eqNumInitial": 1,
   "hotkeys": {
    "equation": "Ctrl-E",
    "itemize": "Ctrl-I"
   },
   "labels_anchors": false,
   "latex_user_defs": false,
   "report_style_numbering": false,
   "user_envs_cfg": false
  },
  "toc": {
   "base_numbering": 1,
   "nav_menu": {},
   "number_sections": true,
   "sideBar": false,
   "skip_h1_title": false,
   "title_cell": "Table of Contents",
   "title_sidebar": "Contents",
   "toc_cell": true,
   "toc_position": {},
   "toc_section_display": true,
   "toc_window_display": false
  },
  "varInspector": {
   "cols": {
    "lenName": 16,
    "lenType": 16,
    "lenVar": 40
   },
   "kernels_config": {
    "python": {
     "delete_cmd_postfix": "",
     "delete_cmd_prefix": "del ",
     "library": "var_list.py",
     "varRefreshCmd": "print(var_dic_list())"
    },
    "r": {
     "delete_cmd_postfix": ") ",
     "delete_cmd_prefix": "rm(",
     "library": "var_list.r",
     "varRefreshCmd": "cat(var_dic_list()) "
    }
   },
   "position": {
    "height": "289px",
    "left": "1538.33px",
    "right": "20px",
    "top": "127px",
    "width": "328px"
   },
   "types_to_exclude": [
    "module",
    "function",
    "builtin_function_or_method",
    "instance",
    "_Feature"
   ],
   "window_display": true
  }
 },
 "nbformat": 4,
 "nbformat_minor": 2
}

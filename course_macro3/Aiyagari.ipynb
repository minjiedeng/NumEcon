{
 "cells": [
  {
   "cell_type": "markdown",
   "metadata": {
    "toc": true
   },
   "source": [
    "<h1>Table of Contents<span class=\"tocSkip\"></span></h1>\n",
    "<div class=\"toc\"><ul class=\"toc-item\"><li><span><a href=\"#Setup\" data-toc-modified-id=\"Setup-1\"><span class=\"toc-item-num\">1&nbsp;&nbsp;</span>Setup</a></span></li><li><span><a href=\"#Aiyagari\" data-toc-modified-id=\"Aiyagari-2\"><span class=\"toc-item-num\">2&nbsp;&nbsp;</span>Aiyagari</a></span><ul class=\"toc-item\"><li><span><a href=\"#Setup\" data-toc-modified-id=\"Setup-2.1\"><span class=\"toc-item-num\">2.1&nbsp;&nbsp;</span>Setup</a></span></li><li><span><a href=\"#Find-stationary-equilibrium\" data-toc-modified-id=\"Find-stationary-equilibrium-2.2\"><span class=\"toc-item-num\">2.2&nbsp;&nbsp;</span>Find stationary equilibrium</a></span></li><li><span><a href=\"#Consumption-functions\" data-toc-modified-id=\"Consumption-functions-2.3\"><span class=\"toc-item-num\">2.3&nbsp;&nbsp;</span>Consumption functions</a></span></li><li><span><a href=\"#Stationary-distribution\" data-toc-modified-id=\"Stationary-distribution-2.4\"><span class=\"toc-item-num\">2.4&nbsp;&nbsp;</span>Stationary distribution</a></span></li></ul></li><li><span><a href=\"#Find-transition-path\" data-toc-modified-id=\"Find-transition-path-3\"><span class=\"toc-item-num\">3&nbsp;&nbsp;</span>Find transition path</a></span></li></ul></div>"
   ]
  },
  {
   "cell_type": "markdown",
   "metadata": {},
   "source": [
    "**Description:** This is a Jupyter Notebook with Python code. You do not need any knowledge or either Jupyter or Python to run it.\n",
    "\n",
    "**To run all:** Kernel $\\rightarrow$ Restart & Run All\n",
    "\n",
    "**To run each cell press:**\n",
    "\n",
    "1. <kbd>Ctrl</kbd>+<kbd>Enter</kbd> to just run the cell\n",
    "2. <kbd>Ctrl</kbd>+<kbd>Shift</kbd>+<kbd>Enter</kbd> to the run the cell and proceed to the next"
   ]
  },
  {
   "cell_type": "markdown",
   "metadata": {},
   "source": [
    "# Setup"
   ]
  },
  {
   "cell_type": "code",
   "execution_count": 1,
   "metadata": {
    "code_folding": [
     0
    ]
   },
   "outputs": [
    {
     "ename": "NameError",
     "evalue": "name 'nogil' is not defined",
     "output_type": "error",
     "traceback": [
      "\u001b[1;31m---------------------------------------------------------------------------\u001b[0m",
      "\u001b[1;31mNameError\u001b[0m                                 Traceback (most recent call last)",
      "\u001b[1;32m<ipython-input-1-9add797d2747>\u001b[0m in \u001b[0;36m<module>\u001b[1;34m()\u001b[0m\n\u001b[0;32m      8\u001b[0m \u001b[1;33m\u001b[0m\u001b[0m\n\u001b[0;32m      9\u001b[0m \u001b[1;32mimport\u001b[0m \u001b[0mcontext\u001b[0m\u001b[1;33m\u001b[0m\u001b[0m\n\u001b[1;32m---> 10\u001b[1;33m \u001b[1;32mimport\u001b[0m \u001b[0mnumecon\u001b[0m\u001b[1;33m.\u001b[0m\u001b[0mcourse_macro3\u001b[0m\u001b[1;33m.\u001b[0m\u001b[0mAiyagari\u001b[0m \u001b[1;32mas\u001b[0m \u001b[0mAiyagari\u001b[0m\u001b[1;33m\u001b[0m\u001b[0m\n\u001b[0m\u001b[0;32m     11\u001b[0m \u001b[0mget_ipython\u001b[0m\u001b[1;33m(\u001b[0m\u001b[1;33m)\u001b[0m\u001b[1;33m.\u001b[0m\u001b[0mrun_line_magic\u001b[0m\u001b[1;33m(\u001b[0m\u001b[1;34m'aimport'\u001b[0m\u001b[1;33m,\u001b[0m \u001b[1;34m'numecon.course_macro3.Aiyagari'\u001b[0m\u001b[1;33m)\u001b[0m\u001b[1;33m\u001b[0m\u001b[0m\n",
      "\u001b[1;32m~\\Dropbox\\NumEcon\\numecon\\course_macro3\\Aiyagari.py\u001b[0m in \u001b[0;36m<module>\u001b[1;34m()\u001b[0m\n\u001b[0;32m    372\u001b[0m \u001b[1;33m\u001b[0m\u001b[0m\n\u001b[0;32m    373\u001b[0m \u001b[1;33m\u001b[0m\u001b[0m\n\u001b[1;32m--> 374\u001b[1;33m \u001b[1;33m@\u001b[0m\u001b[0mnumba\u001b[0m\u001b[1;33m.\u001b[0m\u001b[0mnjit\u001b[0m\u001b[1;33m(\u001b[0m\u001b[0mnogil\u001b[0m\u001b[1;33m)\u001b[0m\u001b[1;33m\u001b[0m\u001b[0m\n\u001b[0m\u001b[0;32m    375\u001b[0m \u001b[1;32mdef\u001b[0m \u001b[0msimulate\u001b[0m\u001b[1;33m(\u001b[0m\u001b[0ma0\u001b[0m\u001b[1;33m,\u001b[0m\u001b[0mz0\u001b[0m\u001b[1;33m,\u001b[0m\u001b[0msim_R\u001b[0m\u001b[1;33m,\u001b[0m\u001b[0msim_w\u001b[0m\u001b[1;33m,\u001b[0m\u001b[0msimN\u001b[0m\u001b[1;33m,\u001b[0m\u001b[0msimT\u001b[0m\u001b[1;33m,\u001b[0m\u001b[0mgrid_z\u001b[0m\u001b[1;33m,\u001b[0m\u001b[0mgrid_m\u001b[0m\u001b[1;33m,\u001b[0m\u001b[0mc_inf\u001b[0m\u001b[1;33m,\u001b[0m\u001b[0mtrans_p_z\u001b[0m\u001b[1;33m,\u001b[0m\u001b[0munemp_p\u001b[0m\u001b[1;33m,\u001b[0m\u001b[0munemp_b\u001b[0m\u001b[1;33m,\u001b[0m\u001b[0mc_transition_path\u001b[0m\u001b[1;33m,\u001b[0m\u001b[0mtransT\u001b[0m\u001b[1;33m,\u001b[0m\u001b[0mseed\u001b[0m\u001b[1;33m)\u001b[0m\u001b[1;33m:\u001b[0m\u001b[1;33m\u001b[0m\u001b[0m\n\u001b[0;32m    376\u001b[0m \u001b[1;33m\u001b[0m\u001b[0m\n",
      "\u001b[1;31mNameError\u001b[0m: name 'nogil' is not defined"
     ]
    }
   ],
   "source": [
    "# import and settings\n",
    "%matplotlib inline\n",
    "%load_ext autoreload\n",
    "%autoreload 1\n",
    "\n",
    "import numpy as np\n",
    "import matplotlib.pyplot as plt\n",
    "\n",
    "import context\n",
    "import numecon.course_macro3.Aiyagari as Aiyagari\n",
    "%aimport numecon.course_macro3.Aiyagari"
   ]
  },
  {
   "cell_type": "code",
   "execution_count": null,
   "metadata": {
    "code_folding": [
     0
    ]
   },
   "outputs": [],
   "source": [
    "%%html\n",
    "<style>\n",
    ".output_wrapper, .output {\n",
    "    height:auto !important;\n",
    "    max-height:5000px;  /* your desired max-height here */\n",
    "}\n",
    ".output_scroll {\n",
    "    box-shadow:none !important;\n",
    "    webkit-box-shadow:none !important;\n",
    "}\n",
    "</style>"
   ]
  },
  {
   "cell_type": "markdown",
   "metadata": {},
   "source": [
    "# Aiyagari"
   ]
  },
  {
   "cell_type": "markdown",
   "metadata": {},
   "source": [
    "## Setup"
   ]
  },
  {
   "cell_type": "markdown",
   "metadata": {},
   "source": [
    "Make a dictionary called **par** with your parameter choices."
   ]
  },
  {
   "cell_type": "code",
   "execution_count": null,
   "metadata": {},
   "outputs": [],
   "source": [
    "par = dict()"
   ]
  },
  {
   "cell_type": "markdown",
   "metadata": {},
   "source": [
    "Create a **Ramsey model** with the chosen parameters."
   ]
  },
  {
   "cell_type": "code",
   "execution_count": null,
   "metadata": {},
   "outputs": [],
   "source": [
    "model = Aiyagari.AiyagariModel(name='baseline',**par)"
   ]
  },
  {
   "cell_type": "markdown",
   "metadata": {},
   "source": [
    "## Find stationary equilibrium"
   ]
  },
  {
   "cell_type": "code",
   "execution_count": null,
   "metadata": {
    "scrolled": false
   },
   "outputs": [],
   "source": [
    "model.find_stationary_equilibrium()"
   ]
  },
  {
   "cell_type": "code",
   "execution_count": null,
   "metadata": {
    "scrolled": true
   },
   "outputs": [],
   "source": [
    "# a. figure of R\n",
    "fig = plt.figure(figsize=(6,6),dpi=100)\n",
    "ax = fig.add_subplot(1,1,1)\n",
    "\n",
    "ts = np.arange(model.ss_simT)\n",
    "ax.plot(ts,model.R_ss*np.ones(model.ss_simT),'-',color='black')\n",
    "ax.plot(ts,model.R_func(model.ss_sim_k),'--',color='firebrick')\n",
    "\n",
    "ax.grid(ls='--',lw=1)\n",
    "ax.set_ylim([1.00,1.06])\n",
    "ax.set_title('Convergence to the stationary equilibrium ($R_t$)')\n",
    "\n",
    "# b. figure of k\n",
    "fig = plt.figure(figsize=(6,6),dpi=100)\n",
    "ax = fig.add_subplot(1,1,1)\n",
    "\n",
    "ts = np.arange(model.ss_simT)\n",
    "ax.plot(ts,model.k_ss*np.ones(model.ss_simT),'-',color='black')\n",
    "ax.plot(ts,model.ss_sim_k,'--',color='firebrick')\n",
    "\n",
    "ax.grid(ls='--',lw=1)\n",
    "ax.set_ylim([0,10])\n",
    "ax.set_title('Convergence to the stationary equilibrium ($k_t$)')"
   ]
  },
  {
   "cell_type": "markdown",
   "metadata": {},
   "source": [
    "## Consumption functions"
   ]
  },
  {
   "cell_type": "code",
   "execution_count": null,
   "metadata": {
    "scrolled": true
   },
   "outputs": [],
   "source": [
    "fig = plt.figure(figsize=(6,4),dpi=100)\n",
    "ax = fig.add_subplot(1,1,1)\n",
    "\n",
    "for z in range(model.Nz):\n",
    "    ax.plot(model.grid_m,model.c_inf[z,:],label=f'$z_t = {model.grid_z[z]:.2}$')\n",
    "\n",
    "ax.grid(ls='--',lw=1)\n",
    "ax.set_xlabel('$m_t$')\n",
    "ax.set_ylabel('$c_t$')\n",
    "        \n",
    "legend = ax.legend(loc='lower right', shadow=True)\n",
    "frame = legend.get_frame()\n",
    "frame.set_facecolor('0.90')\n",
    "\n",
    "fig.savefig('figs/Aiyagari_consumption_functions.pdf')"
   ]
  },
  {
   "cell_type": "markdown",
   "metadata": {},
   "source": [
    "## Stationary distribution"
   ]
  },
  {
   "cell_type": "code",
   "execution_count": null,
   "metadata": {},
   "outputs": [],
   "source": [
    "fig = plt.figure(figsize=(6,4),dpi=100)\n",
    "ax = fig.add_subplot(1,1,1)\n",
    "\n",
    "for z in range(model.Nz):\n",
    "    I = model.ss_sim_z == z\n",
    "    ax.hist(model.ss_sim_a[I],label=f'$z_t = {model.grid_z[z]:.2}$',alpha=0.80,bins=100,density=True)\n",
    "\n",
    "ax.grid(ls='--',lw=1)\n",
    "ax.set_xlabel('$a_t$')\n",
    "ax.set_ylabel('frequency')\n",
    "        \n",
    "legend = ax.legend(loc='lower right', shadow=True)\n",
    "frame = legend.get_frame()\n",
    "frame.set_facecolor('0.90')\n",
    "\n",
    "fig.savefig('figs/Aiyagari_stationary_distribution.pdf')"
   ]
  },
  {
   "cell_type": "markdown",
   "metadata": {},
   "source": [
    "# Find transition path"
   ]
  },
  {
   "cell_type": "code",
   "execution_count": null,
   "metadata": {
    "scrolled": false
   },
   "outputs": [],
   "source": [
    "# a. initial values\n",
    "I = np.random.choice(model.ss_simN,size=model.transN)\n",
    "model.trans_sim_a0 = 0.95*model.ss_sim_a[I] \n",
    "model.trans_sim_z0 = model.ss_sim_z[I] \n",
    "\n",
    "# b. find transition math\n",
    "R_ini = model.R_ss\n",
    "mu = 0.00 # convergence rate\n",
    "model.find_transition_path(mu)"
   ]
  },
  {
   "cell_type": "code",
   "execution_count": null,
   "metadata": {
    "scrolled": true
   },
   "outputs": [],
   "source": [
    "fig = plt.figure(figsize=(6,4),dpi=100)\n",
    "ax = fig.add_subplot(1,1,1)\n",
    "\n",
    "ts = np.arange(model.transT)\n",
    "ax.plot(ts,model.R_ss*np.ones(model.transT),'-',color='black',label='steady state')\n",
    "ax.plot(ts,model.R_func(model.sim_k),'-',lw=2,color='firebrick',label='implied $R(k_t)$')\n",
    "ax.plot(ts,model.sim_R,'o',markersize=3,markerfacecolor='None',markeredgecolor='navy',label='imposed $R_t$')\n",
    "\n",
    "ax.grid(ls='--',lw=1)\n",
    "ax.set_xlim([0,100])\n",
    "ax.set_ylim([model.R_ss-0.01,model.R_ss+0.01])\n",
    "        \n",
    "legend = ax.legend(loc='upper right', shadow=True)\n",
    "frame = legend.get_frame()\n",
    "frame.set_facecolor('0.90')\n",
    "\n",
    "fig.savefig('figs/Aiyagari_transition_path.pdf')"
   ]
  }
 ],
 "metadata": {
  "kernelspec": {
   "display_name": "Python 3",
   "language": "python",
   "name": "python3"
  },
  "language_info": {
   "codemirror_mode": {
    "name": "ipython",
    "version": 3
   },
   "file_extension": ".py",
   "mimetype": "text/x-python",
   "name": "python",
   "nbconvert_exporter": "python",
   "pygments_lexer": "ipython3",
   "version": "3.7.0"
  },
  "toc": {
   "base_numbering": 1,
   "nav_menu": {},
   "number_sections": true,
   "sideBar": true,
   "skip_h1_title": false,
   "title_cell": "Table of Contents",
   "title_sidebar": "Contents",
   "toc_cell": true,
   "toc_position": {},
   "toc_section_display": true,
   "toc_window_display": false
  }
 },
 "nbformat": 4,
 "nbformat_minor": 2
}

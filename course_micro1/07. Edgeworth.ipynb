{
 "cells": [
  {
   "cell_type": "markdown",
   "metadata": {
    "toc": true
   },
   "source": [
    "<h1>Table of Contents<span class=\"tocSkip\"></span></h1>\n",
    "<div class=\"toc\"><ul class=\"toc-item\"><li><span><a href=\"#Setup\" data-toc-modified-id=\"Setup-1\"><span class=\"toc-item-num\">1&nbsp;&nbsp;</span>Setup</a></span></li><li><span><a href=\"#Economics\" data-toc-modified-id=\"Economics-2\"><span class=\"toc-item-num\">2&nbsp;&nbsp;</span>Economics</a></span></li><li><span><a href=\"#Be-your-own-auctionarius!\" data-toc-modified-id=\"Be-your-own-auctionarius!-3\"><span class=\"toc-item-num\">3&nbsp;&nbsp;</span>Be your own auctionarius!</a></span></li><li><span><a href=\"#Algorithmic-solution\" data-toc-modified-id=\"Algorithmic-solution-4\"><span class=\"toc-item-num\">4&nbsp;&nbsp;</span>Algorithmic solution</a></span></li></ul></div>"
   ]
  },
  {
   "cell_type": "markdown",
   "metadata": {},
   "source": [
    "**Description:** This is a Jupyter Notebook with Python code. You do not need any knowledge or either Jupyter or Python to run it.\n",
    "\n",
    "**To run all:** Kernel $\\rightarrow$ Restart & Run All\n",
    "\n",
    "**To run each cell press:**\n",
    "\n",
    "1. <kbd>Ctrl</kbd>+<kbd>Enter</kbd> to just run the cell\n",
    "2. <kbd>Ctrl</kbd>+<kbd>Shift</kbd>+<kbd>Enter</kbd> to the run the cell and proceed to the next"
   ]
  },
  {
   "cell_type": "markdown",
   "metadata": {},
   "source": [
    "# Setup"
   ]
  },
  {
   "cell_type": "code",
   "execution_count": 1,
   "metadata": {
    "ExecuteTime": {
     "end_time": "2018-10-30T16:04:02.099547Z",
     "start_time": "2018-10-30T16:04:01.661771Z"
    },
    "code_folding": [
     0
    ]
   },
   "outputs": [],
   "source": [
    "# imports and settings\n",
    "%matplotlib inline\n",
    "%load_ext autoreload\n",
    "%autoreload 1\n",
    "\n",
    "import time\n",
    "import numpy as np\n",
    "import context\n",
    "import numecon.course_micro1.edgeworth as consumer\n",
    "%aimport numecon.course_micro1.consumer\n",
    "import numecon.course_micro1.edgeworth as edgeworth\n",
    "%aimport numecon.course_micro1.edgeworth"
   ]
  },
  {
   "cell_type": "code",
   "execution_count": 2,
   "metadata": {
    "ExecuteTime": {
     "end_time": "2018-10-30T16:04:02.106531Z",
     "start_time": "2018-10-30T16:04:02.100547Z"
    },
    "code_folding": [
     0
    ]
   },
   "outputs": [
    {
     "data": {
      "text/html": [
       "<style>\n",
       ".output_wrapper, .output {\n",
       "    height:auto !important;\n",
       "    max-height:5000px;  /* your desired max-height here */\n",
       "}\n",
       ".output_scroll {\n",
       "    box-shadow:none !important;\n",
       "    webkit-box-shadow:none !important;\n",
       "}\n",
       "</style>"
      ],
      "text/plain": [
       "<IPython.core.display.HTML object>"
      ]
     },
     "metadata": {},
     "output_type": "display_data"
    }
   ],
   "source": [
    "%%html\n",
    "<style>\n",
    ".output_wrapper, .output {\n",
    "    height:auto !important;\n",
    "    max-height:5000px;  /* your desired max-height here */\n",
    "}\n",
    ".output_scroll {\n",
    "    box-shadow:none !important;\n",
    "    webkit-box-shadow:none !important;\n",
    "}\n",
    "</style>"
   ]
  },
  {
   "cell_type": "markdown",
   "metadata": {},
   "source": [
    "# Economics"
   ]
  },
  {
   "cell_type": "markdown",
   "metadata": {},
   "source": [
    "We consider a normalized Edgeworth-economy ($e_1 = e_2 = 1$), where $\\omega_1$ and $\\omega_2$ are the shares of good 1 and 2 held by consumer $A$. Both consumers have CES preferences. We normalize $p_2 = 1$.\n",
    "\n",
    "$$u(x_1,x_2) = (\\alpha x_1^{-\\beta}+(1-\\alpha)x_2^{-\\beta})^{-1/\\beta}$$"
   ]
  },
  {
   "cell_type": "markdown",
   "metadata": {},
   "source": [
    "# Be your own auctionarius!"
   ]
  },
  {
   "cell_type": "code",
   "execution_count": 3,
   "metadata": {
    "ExecuteTime": {
     "end_time": "2018-10-30T16:04:02.595444Z",
     "start_time": "2018-10-30T16:04:02.108530Z"
    },
    "scrolled": false
   },
   "outputs": [
    {
     "data": {
      "application/vnd.jupyter.widget-view+json": {
       "model_id": "6abe37e6eccb4f55a2e9b862fa1d3341",
       "version_major": 2,
       "version_minor": 0
      },
      "text/plain": [
       "interactive(children=(BoundedFloatText(value=2.0, description='$p_1$', max=4.0, min=0.05, step=0.05), FloatSli…"
      ]
     },
     "metadata": {},
     "output_type": "display_data"
    }
   ],
   "source": [
    "edgeworth.ces()"
   ]
  },
  {
   "cell_type": "markdown",
   "metadata": {},
   "source": [
    "# Algorithmic solution"
   ]
  },
  {
   "cell_type": "code",
   "execution_count": 4,
   "metadata": {
    "ExecuteTime": {
     "end_time": "2018-10-30T16:04:02.602440Z",
     "start_time": "2018-10-30T16:04:02.596434Z"
    },
    "code_folding": [
     0
    ]
   },
   "outputs": [],
   "source": [
    "# algorithm\n",
    "\n",
    "def excess_demand_x2(p1,a):\n",
    "    I = p1*k + 1\n",
    "    x2 = (1-a)*I\n",
    "    z2 = x2-1\n",
    "    return z2\n",
    "\n",
    "def iterate(p1_guess,N=10000,mu_1=0.25,mu_2=0.75,k=5,eps=1e-8, kappa=0.1,maxiter=50):\n",
    "\n",
    "    # a. draw preferences\n",
    "    a = np.random.uniform(low=mu_1,high=mu_2,size=N)\n",
    "    \n",
    "    # b. iterate\n",
    "    t = 0\n",
    "    while True:\n",
    "    \n",
    "        if t == 0:\n",
    "            p1 = p1_guess\n",
    "        else:\n",
    "            p1 = p1 - kappa*z2/N\n",
    "    \n",
    "        z2 = np.sum(excess_demand_x2(p1,a))\n",
    "        print(f'{t:3d}: p1 = {p1:12.8f} -> z2 -> {z2:14.8f}')\n",
    "        time.sleep(1)\n",
    "        \n",
    "        if t >= maxiter or np.abs(z2) < eps:\n",
    "            break\n",
    "        t += 1\n",
    "    "
   ]
  },
  {
   "cell_type": "code",
   "execution_count": 5,
   "metadata": {
    "ExecuteTime": {
     "end_time": "2018-10-30T16:04:53.635641Z",
     "start_time": "2018-10-30T16:04:02.603438Z"
    }
   },
   "outputs": [
    {
     "name": "stdout",
     "output_type": "stream",
     "text": [
      "analytical result: p1 = 0.20000000\n",
      "  0: p1 =   0.24000000 -> z2 ->   976.85609216\n",
      "  1: p1 =   0.13254583 -> z2 -> -1703.84609443\n",
      "  2: p1 =   0.31996890 -> z2 ->  2971.87225100\n",
      "  3: p1 =  -0.00693705 -> z2 -> -5183.58125488\n",
      "  4: p1 =   0.56325689 -> z2 ->  9041.27511433\n",
      "  5: p1 =  -0.43128337 -> z2 -> -15769.91884057\n",
      "  6: p1 =   1.30340770 -> z2 -> 27506.11358391\n",
      "  7: p1 =  -1.72226479 -> z2 -> -47976.54903235\n",
      "  8: p1 =   3.55515560 -> z2 -> 83681.36959925\n",
      "  9: p1 =  -5.64979506 -> z2 -> -145958.21832213\n",
      " 10: p1 =  10.40560896 -> z2 -> 254582.37117525\n",
      " 11: p1 = -17.59845187 -> z2 -> -444046.14182240\n",
      " 12: p1 =  31.24662373 -> z2 -> 774511.50744301\n",
      " 13: p1 = -53.94964209 -> z2 -> -1350913.83228719\n",
      " 14: p1 =  94.65087946 -> z2 -> 2356282.85019273\n",
      " 15: p1 = -164.54023406 -> z2 -> -4109861.58955256\n",
      " 16: p1 = 287.54454079 -> z2 -> 7168478.21724709\n",
      " 17: p1 = -500.98806310 -> z2 -> -12503360.23037225\n",
      " 18: p1 = 874.38156224 -> z2 -> 21808536.24892391\n",
      " 19: p1 = -1524.55742514 -> z2 -> -38038754.74732829\n",
      " 20: p1 = 2659.70559706 -> z2 -> 66347729.44923279\n",
      " 21: p1 = -4638.54464235 -> z2 -> -115724640.10215203\n",
      " 22: p1 = 8091.16576888 -> z2 -> 201848540.07731947\n",
      " 23: p1 = -14112.17363962 -> z2 -> -352067054.13281804\n",
      " 24: p1 = 24615.20231499 -> z2 -> 614080292.86850560\n",
      " 25: p1 = -42933.62990055 -> z2 -> -1071087458.09316707\n",
      " 26: p1 = 74885.99048970 -> z2 -> 1868205764.30734062\n",
      " 27: p1 = -130616.64358411 -> z2 -> -3258550692.02722836\n",
      " 28: p1 = 227823.93253889 -> z2 -> 5683609811.81745434\n",
      " 29: p1 = -397373.14676103 -> z2 -> -9913431935.25427437\n",
      " 30: p1 = 693104.36611694 -> z2 -> 17291146997.91354370\n",
      " 31: p1 = -1208921.80365355 -> z2 -> -30159461068.19018173\n",
      " 32: p1 = 2108618.91384737 -> z2 -> 52604554922.43725586\n",
      " 33: p1 = -3677882.12762073 -> z2 -> -91753602371.44235229\n",
      " 34: p1 = 6415014.13323793 -> z2 -> 160037919920.61773682\n",
      " 35: p1 = -11189157.05803002 -> z2 -> -279140384143.54022217\n",
      " 36: p1 = 19516285.19775940 -> z2 -> 486880572419.66705322\n",
      " 37: p1 = -34040577.76840398 -> z2 -> -849223921959.65747070\n",
      " 38: p1 = 59374053.64715835 -> z2 -> 1481228273382.24462891\n",
      " 39: p1 = -103561056.42488858 -> z2 -> -2583579125755.21386719\n",
      " 40: p1 = 180632647.40818498 -> z2 -> 4506314940773.18359375\n",
      " 41: p1 = -315061996.07686520 -> z2 -> -7859977711926.91992188\n",
      " 42: p1 = 549535552.23509598 -> z2 -> 13709483345917.23046875\n",
      " 43: p1 = -958507615.81579947 -> z2 -> -23912273100568.99609375\n",
      " 44: p1 = 1671842425.24679017 -> z2 -> 41708122064751.63281250\n",
      " 45: p1 = -2916051001.87588978 -> z2 -> -72747891379963.73437500\n",
      " 46: p1 = 5086217049.92012119 -> z2 -> 126887892291453.51562500\n",
      " 47: p1 = -8871451102.13976669 -> z2 -> -221319641088620.37500000\n",
      " 48: p1 = 15473709417.60847855 -> z2 -> 386028821560738.75000000\n",
      " 49: p1 = -26989460954.07278824 -> z2 -> -673316883863475.37500000\n",
      " 50: p1 = 47075396270.90951538 -> z2 -> 1174408750783621.75000000\n"
     ]
    }
   ],
   "source": [
    "# a. settings\n",
    "N = 10000\n",
    "mu_1 = 0.25\n",
    "mu_2 = 0.75\n",
    "k = 5\n",
    "eps = 1e-8\n",
    "kappa = 1.1\n",
    "p1_guess = 0.24\n",
    "\n",
    "# b. analytical solution\n",
    "mu = mu_1 + (mu_2-mu_1)/2\n",
    "p1_analytical = (mu/(1-mu))/k\n",
    "print(f'analytical result: p1 = {p1_analytical:.8f}')\n",
    "\n",
    "# c. algorithmic solution\n",
    "p1_guess = p1_analytical*1.2\n",
    "iterate(p1_guess,N,mu_1,mu_2,k,eps,kappa)"
   ]
  }
 ],
 "metadata": {
  "kernelspec": {
   "display_name": "Python 3",
   "language": "python",
   "name": "python3"
  },
  "language_info": {
   "codemirror_mode": {
    "name": "ipython",
    "version": 3
   },
   "file_extension": ".py",
   "mimetype": "text/x-python",
   "name": "python",
   "nbconvert_exporter": "python",
   "pygments_lexer": "ipython3",
   "version": "3.6.5"
  },
  "toc": {
   "base_numbering": 1,
   "nav_menu": {},
   "number_sections": true,
   "sideBar": true,
   "skip_h1_title": false,
   "title_cell": "Table of Contents",
   "title_sidebar": "Contents",
   "toc_cell": true,
   "toc_position": {},
   "toc_section_display": true,
   "toc_window_display": false
  }
 },
 "nbformat": 4,
 "nbformat_minor": 2
}

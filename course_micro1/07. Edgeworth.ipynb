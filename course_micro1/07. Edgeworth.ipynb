{
 "cells": [
  {
   "cell_type": "markdown",
   "metadata": {
    "toc": true
   },
   "source": [
    "<h1>Table of Contents<span class=\"tocSkip\"></span></h1>\n",
    "<div class=\"toc\"><ul class=\"toc-item\"><li><span><a href=\"#Setup\" data-toc-modified-id=\"Setup-1\"><span class=\"toc-item-num\">1&nbsp;&nbsp;</span>Setup</a></span></li><li><span><a href=\"#Economics\" data-toc-modified-id=\"Economics-2\"><span class=\"toc-item-num\">2&nbsp;&nbsp;</span>Economics</a></span></li><li><span><a href=\"#Be-your-own-auctionarius!\" data-toc-modified-id=\"Be-your-own-auctionarius!-3\"><span class=\"toc-item-num\">3&nbsp;&nbsp;</span>Be your own auctionarius!</a></span></li><li><span><a href=\"#Algorithmic-solution\" data-toc-modified-id=\"Algorithmic-solution-4\"><span class=\"toc-item-num\">4&nbsp;&nbsp;</span>Algorithmic solution</a></span></li></ul></div>"
   ]
  },
  {
   "cell_type": "markdown",
   "metadata": {},
   "source": [
    "**Description:** This is a Jupyter Notebook with Python code. You do not need any knowledge or either Jupyter or Python to run it.\n",
    "\n",
    "**To run all:** Kernel $\\rightarrow$ Restart & Run All\n",
    "\n",
    "**To run each cell press:**\n",
    "\n",
    "1. <kbd>Ctrl</kbd>+<kbd>Enter</kbd> to just run the cell\n",
    "2. <kbd>Ctrl</kbd>+<kbd>Shift</kbd>+<kbd>Enter</kbd> to the run the cell and proceed to the next"
   ]
  },
  {
   "cell_type": "markdown",
   "metadata": {},
   "source": [
    "# Setup"
   ]
  },
  {
   "cell_type": "code",
   "execution_count": 1,
   "metadata": {
    "ExecuteTime": {
     "end_time": "2018-10-30T16:04:02.099547Z",
     "start_time": "2018-10-30T16:04:01.661771Z"
    },
    "code_folding": [
     0
    ]
   },
   "outputs": [],
   "source": [
    "# imports and settings\n",
    "%matplotlib inline\n",
    "%load_ext autoreload\n",
    "%autoreload 1\n",
    "\n",
    "import time\n",
    "import numpy as np\n",
    "import context\n",
    "import numecon.course_micro1.edgeworth as consumer\n",
    "%aimport numecon.course_micro1.consumer\n",
    "import numecon.course_micro1.edgeworth as edgeworth\n",
    "%aimport numecon.course_micro1.edgeworth"
   ]
  },
  {
   "cell_type": "code",
   "execution_count": 2,
   "metadata": {
    "ExecuteTime": {
     "end_time": "2018-10-30T16:04:02.106531Z",
     "start_time": "2018-10-30T16:04:02.100547Z"
    },
    "code_folding": [
     0
    ]
   },
   "outputs": [
    {
     "data": {
      "text/html": [
       "<style>\n",
       ".output_wrapper, .output {\n",
       "    height:auto !important;\n",
       "    max-height:5000px;  /* your desired max-height here */\n",
       "}\n",
       ".output_scroll {\n",
       "    box-shadow:none !important;\n",
       "    webkit-box-shadow:none !important;\n",
       "}\n",
       "</style>"
      ],
      "text/plain": [
       "<IPython.core.display.HTML object>"
      ]
     },
     "metadata": {},
     "output_type": "display_data"
    }
   ],
   "source": [
    "%%html\n",
    "<style>\n",
    ".output_wrapper, .output {\n",
    "    height:auto !important;\n",
    "    max-height:5000px;  /* your desired max-height here */\n",
    "}\n",
    ".output_scroll {\n",
    "    box-shadow:none !important;\n",
    "    webkit-box-shadow:none !important;\n",
    "}\n",
    "</style>"
   ]
  },
  {
   "cell_type": "markdown",
   "metadata": {},
   "source": [
    "# Economics"
   ]
  },
  {
   "cell_type": "markdown",
   "metadata": {},
   "source": [
    "We consider a normalized Edgeworth-economy ($e_1 = e_2 = 1$), where $\\omega_1$ and $\\omega_2$ are the shares of good 1 and 2 held by consumer $A$. Both consumers have CES preferences. We normalize $p_2 = 1$.\n",
    "\n",
    "$$u(x_1,x_2) = (\\alpha x_1^{-\\beta}+(1-\\alpha)x_2^{-\\beta})^{-1/\\beta}$$"
   ]
  },
  {
   "cell_type": "markdown",
   "metadata": {},
   "source": [
    "# Be your own auctionarius!"
   ]
  },
  {
   "cell_type": "code",
   "execution_count": 3,
   "metadata": {
    "ExecuteTime": {
     "end_time": "2018-10-30T16:04:02.595444Z",
     "start_time": "2018-10-30T16:04:02.108530Z"
    },
    "scrolled": false
   },
   "outputs": [
    {
     "data": {
      "application/vnd.jupyter.widget-view+json": {
       "model_id": "ee35f3483ae2430da6bd7449d719baa4",
       "version_major": 2,
       "version_minor": 0
      },
      "text/plain": [
       "interactive(children=(BoundedFloatText(value=2.0, description='$p_1$', max=4.0, min=0.05, step=0.05), FloatSli…"
      ]
     },
     "metadata": {},
     "output_type": "display_data"
    }
   ],
   "source": [
    "edgeworth.ces()"
   ]
  },
  {
   "cell_type": "markdown",
   "metadata": {},
   "source": [
    "# Algorithmic solution"
   ]
  },
  {
   "cell_type": "code",
   "execution_count": 4,
   "metadata": {
    "ExecuteTime": {
     "end_time": "2018-10-30T16:04:02.602440Z",
     "start_time": "2018-10-30T16:04:02.596434Z"
    },
    "code_folding": [
     0
    ]
   },
   "outputs": [],
   "source": [
    "# algorithm\n",
    "\n",
    "def excess_demand_x2(p1,a):\n",
    "    I = p1*k + 1\n",
    "    x2 = (1-a)*I\n",
    "    z2 = x2-1\n",
    "    return z2\n",
    "\n",
    "def iterate(p1_guess,N=10000,mu_1=0.25,mu_2=0.75,k=5,eps=1e-8, kappa=0.1,maxiter=50):\n",
    "\n",
    "    # a. draw preferences\n",
    "    a = np.random.uniform(low=mu_1,high=mu_2,size=N)\n",
    "    \n",
    "    # b. iterate\n",
    "    t = 0\n",
    "    while True:\n",
    "    \n",
    "        if t == 0:\n",
    "            p1 = p1_guess\n",
    "        else:\n",
    "            p1 = p1 - kappa*z2/N\n",
    "    \n",
    "        z2 = np.sum(excess_demand_x2(p1,a))\n",
    "        print(f'{t:3d}: p1 = {p1:12.8f} -> z2 -> {z2:14.8f}')\n",
    "        time.sleep(1)\n",
    "        \n",
    "        if t >= maxiter or np.abs(z2) < eps:\n",
    "            break\n",
    "        t += 1\n",
    "    "
   ]
  },
  {
   "cell_type": "code",
   "execution_count": 5,
   "metadata": {
    "ExecuteTime": {
     "end_time": "2018-10-30T16:04:53.635641Z",
     "start_time": "2018-10-30T16:04:02.603438Z"
    }
   },
   "outputs": [
    {
     "name": "stdout",
     "output_type": "stream",
     "text": [
      "analytical result: p1 = 0.20000000\n",
      "  0: p1 =   0.24000000 -> z2 ->   892.47845672\n",
      "  1: p1 =   0.19537608 -> z2 ->  -212.21499361\n",
      "  2: p1 =   0.20598683 -> z2 ->    50.46082981\n",
      "  3: p1 =   0.20346379 -> z2 ->   -11.99865901\n",
      "  4: p1 =   0.20406372 -> z2 ->     2.85306085\n",
      "  5: p1 =   0.20392107 -> z2 ->    -0.67840550\n",
      "  6: p1 =   0.20395499 -> z2 ->     0.16131237\n",
      "  7: p1 =   0.20394692 -> z2 ->    -0.03835712\n",
      "  8: p1 =   0.20394884 -> z2 ->     0.00912062\n",
      "  9: p1 =   0.20394838 -> z2 ->    -0.00216872\n",
      " 10: p1 =   0.20394849 -> z2 ->     0.00051568\n",
      " 11: p1 =   0.20394846 -> z2 ->    -0.00012262\n",
      " 12: p1 =   0.20394847 -> z2 ->     0.00002916\n",
      " 13: p1 =   0.20394847 -> z2 ->    -0.00000693\n",
      " 14: p1 =   0.20394847 -> z2 ->     0.00000165\n",
      " 15: p1 =   0.20394847 -> z2 ->    -0.00000039\n",
      " 16: p1 =   0.20394847 -> z2 ->     0.00000009\n",
      " 17: p1 =   0.20394847 -> z2 ->    -0.00000002\n",
      " 18: p1 =   0.20394847 -> z2 ->     0.00000001\n"
     ]
    }
   ],
   "source": [
    "# a. settings\n",
    "N = 10000\n",
    "mu_1 = 0.25\n",
    "mu_2 = 0.75\n",
    "k = 5\n",
    "eps = 1e-8\n",
    "kappa = 0.5\n",
    "p1_guess = 0.24\n",
    "\n",
    "# b. analytical solution\n",
    "mu = mu_1 + (mu_2-mu_1)/2\n",
    "p1_analytical = (mu/(1-mu))/k\n",
    "print(f'analytical result: p1 = {p1_analytical:.8f}')\n",
    "\n",
    "# c. algorithmic solution\n",
    "p1_guess = p1_analytical*1.2\n",
    "iterate(p1_guess,N,mu_1,mu_2,k,eps,kappa)"
   ]
  }
 ],
 "metadata": {
  "kernelspec": {
   "display_name": "Python 3",
   "language": "python",
   "name": "python3"
  },
  "language_info": {
   "codemirror_mode": {
    "name": "ipython",
    "version": 3
   },
   "file_extension": ".py",
   "mimetype": "text/x-python",
   "name": "python",
   "nbconvert_exporter": "python",
   "pygments_lexer": "ipython3",
   "version": "3.7.0"
  },
  "toc": {
   "base_numbering": 1,
   "nav_menu": {},
   "number_sections": true,
   "sideBar": true,
   "skip_h1_title": false,
   "title_cell": "Table of Contents",
   "title_sidebar": "Contents",
   "toc_cell": true,
   "toc_position": {},
   "toc_section_display": true,
   "toc_window_display": false
  }
 },
 "nbformat": 4,
 "nbformat_minor": 2
}

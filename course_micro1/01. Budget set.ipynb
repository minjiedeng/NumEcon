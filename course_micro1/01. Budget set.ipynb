{
 "cells": [
  {
   "cell_type": "markdown",
   "metadata": {
    "toc": true
   },
   "source": [
    "<h1>Table of Contents<span class=\"tocSkip\"></span></h1>\n",
    "<div class=\"toc\"><ul class=\"toc-item\"><li><span><a href=\"#Setup\" data-toc-modified-id=\"Setup-1\"><span class=\"toc-item-num\">1&nbsp;&nbsp;</span>Setup</a></span></li><li><span><a href=\"#Budget-set\" data-toc-modified-id=\"Budget-set-2\"><span class=\"toc-item-num\">2&nbsp;&nbsp;</span>Budget set</a></span></li><li><span><a href=\"#Budget-set-with-endowment\" data-toc-modified-id=\"Budget-set-with-endowment-3\"><span class=\"toc-item-num\">3&nbsp;&nbsp;</span>Budget set with endowment</a></span></li><li><span><a href=\"#Kinked-budget-set\" data-toc-modified-id=\"Kinked-budget-set-4\"><span class=\"toc-item-num\">4&nbsp;&nbsp;</span>Kinked budget set</a></span></li><li><span><a href=\"#Budget-set-with-exogenous-income-in-3D\" data-toc-modified-id=\"Budget-set-with-exogenous-income-in-3D-5\"><span class=\"toc-item-num\">5&nbsp;&nbsp;</span>Budget set with exogenous income in 3D</a></span></li></ul></div>"
   ]
  },
  {
   "cell_type": "markdown",
   "metadata": {},
   "source": [
    "**Description:** This is a Jupyter Notebook with Python code. You do not need any knowledge or either Jupyter or Python to run it.\n",
    "\n",
    "**To run all:** Kernel $\\rightarrow$ Restart & Run All\n",
    "\n",
    "**To run each cell press:**\n",
    "\n",
    "1. <kbd>Ctrl</kbd>+<kbd>Enter</kbd> to just run the cell\n",
    "2. <kbd>Ctrl</kbd>+<kbd>Shift</kbd>+<kbd>Enter</kbd> to the run the cell and proceed to the next"
   ]
  },
  {
   "cell_type": "markdown",
   "metadata": {},
   "source": [
    "# Setup"
   ]
  },
  {
   "cell_type": "code",
   "execution_count": 1,
   "metadata": {
    "code_folding": [
     0
    ],
    "scrolled": true
   },
   "outputs": [],
   "source": [
    "# imports and settings\n",
    "%matplotlib inline\n",
    "%load_ext autoreload\n",
    "%autoreload 1\n",
    "\n",
    "import context\n",
    "import numecon.course_micro1.budgetset as consumer\n",
    "%aimport numecon.course_micro1.consumer\n",
    "import numecon.course_micro1.budgetset as budgetset\n",
    "%aimport numecon.course_micro1.budgetset"
   ]
  },
  {
   "cell_type": "code",
   "execution_count": 2,
   "metadata": {
    "code_folding": [
     0
    ]
   },
   "outputs": [
    {
     "data": {
      "text/html": [
       "<style>\n",
       ".output_wrapper, .output {\n",
       "    height:auto !important;\n",
       "    max-height:5000px;  /* your desired max-height here */\n",
       "}\n",
       ".output_scroll {\n",
       "    box-shadow:none !important;\n",
       "    webkit-box-shadow:none !important;\n",
       "}\n",
       "</style>"
      ],
      "text/plain": [
       "<IPython.core.display.HTML object>"
      ]
     },
     "metadata": {},
     "output_type": "display_data"
    }
   ],
   "source": [
    "%%html\n",
    "<style>\n",
    ".output_wrapper, .output {\n",
    "    height:auto !important;\n",
    "    max-height:5000px;  /* your desired max-height here */\n",
    "}\n",
    ".output_scroll {\n",
    "    box-shadow:none !important;\n",
    "    webkit-box-shadow:none !important;\n",
    "}\n",
    "</style>"
   ]
  },
  {
   "cell_type": "markdown",
   "metadata": {},
   "source": [
    "# Budget set"
   ]
  },
  {
   "cell_type": "markdown",
   "metadata": {},
   "source": [
    "$$C(p_1,p_2,I) = \\{(x_1,x_2) \\in \\mathbb{R}_{+}^2 \\,\\, | \\,\\, p_1 x_1 + p_2 x_2 \\leq I\\} $$"
   ]
  },
  {
   "cell_type": "code",
   "execution_count": 3,
   "metadata": {
    "scrolled": false
   },
   "outputs": [
    {
     "data": {
      "application/vnd.jupyter.widget-view+json": {
       "model_id": "e914aa359f8949adbcee41be97abe856",
       "version_major": 2,
       "version_minor": 0
      },
      "text/plain": [
       "interactive(children=(FloatSlider(value=2.0, description='$p_1$', max=5.0, min=0.1, step=0.05), FloatSlider(va…"
      ]
     },
     "metadata": {},
     "output_type": "display_data"
    }
   ],
   "source": [
    "budgetset.exogenous();"
   ]
  },
  {
   "cell_type": "markdown",
   "metadata": {},
   "source": [
    "# Budget set with endowment"
   ]
  },
  {
   "cell_type": "markdown",
   "metadata": {},
   "source": [
    "$$C(p_1,p_2,I) = \\{(x_1,x_2) \\in \\mathbb{R}_{+}^2 \\,\\, | \\,\\, p_1 x_1 + p_2 x_2 \\leq p_1 e_1 + p_2 e_2\\} $$"
   ]
  },
  {
   "cell_type": "code",
   "execution_count": 4,
   "metadata": {
    "scrolled": false
   },
   "outputs": [
    {
     "data": {
      "application/vnd.jupyter.widget-view+json": {
       "model_id": "b974113fb9b245458ef1004b70a4aed6",
       "version_major": 2,
       "version_minor": 0
      },
      "text/plain": [
       "interactive(children=(FloatSlider(value=2.0, description='$p_1$', max=5.0, min=0.1, step=0.05), FloatSlider(va…"
      ]
     },
     "metadata": {},
     "output_type": "display_data"
    }
   ],
   "source": [
    "budgetset.endowment();"
   ]
  },
  {
   "cell_type": "markdown",
   "metadata": {},
   "source": [
    "# Kinked budget set"
   ]
  },
  {
   "cell_type": "markdown",
   "metadata": {},
   "source": [
    "$$ C(p_{1}^{A},p_{1}^{B},p_{2},I) =  \\left\\{ (x_{1},x_{2})\\in\\mathbb{R}_{+}^{2}\\,|\\,\\begin{cases}\n",
    "p_{1}^{A}x_{1}+p_{2}x_{2} \\leq I & \\text{hvis }x_{1}\\leq\\overline{x}_{1}\\\\\n",
    "p_{1}^{B}(x_{1}-\\overline{x})+p_{2}x_{2} \\leq  I-p_{1}^{A}\\overline{x}_1 & \\text{hvis }x_{1}>\\overline{x}_{1}\n",
    "\\end{cases}\\right\\}  $$"
   ]
  },
  {
   "cell_type": "code",
   "execution_count": 5,
   "metadata": {
    "scrolled": true
   },
   "outputs": [
    {
     "data": {
      "application/vnd.jupyter.widget-view+json": {
       "model_id": "c8e473b82f534125aadc7f0dcdbedc32",
       "version_major": 2,
       "version_minor": 0
      },
      "text/plain": [
       "interactive(children=(FloatSlider(value=1.0, description='$p_1^A$', max=5.0, min=0.1, step=0.05), FloatSlider(…"
      ]
     },
     "metadata": {},
     "output_type": "display_data"
    }
   ],
   "source": [
    "budgetset.kink();"
   ]
  },
  {
   "cell_type": "markdown",
   "metadata": {},
   "source": [
    "# Budget set with exogenous income in 3D"
   ]
  },
  {
   "cell_type": "markdown",
   "metadata": {},
   "source": [
    "$$C(p_1,p_2,p_3,I) = \\{(x_1,x_2,x_3) \\in \\mathbb{R}_{+}^3 \\,\\, | \\,\\, p_1 x_1 + p_2 x_2 + p_3 x_3 \\leq I\\} $$"
   ]
  },
  {
   "cell_type": "code",
   "execution_count": null,
   "metadata": {
    "scrolled": false
   },
   "outputs": [],
   "source": [
    "budgetset.D3();"
   ]
  }
 ],
 "metadata": {
  "kernelspec": {
   "display_name": "Python 3",
   "language": "python",
   "name": "python3"
  },
  "language_info": {
   "codemirror_mode": {
    "name": "ipython",
    "version": 3
   },
   "file_extension": ".py",
   "mimetype": "text/x-python",
   "name": "python",
   "nbconvert_exporter": "python",
   "pygments_lexer": "ipython3",
   "version": "3.6.5"
  },
  "toc": {
   "base_numbering": 1,
   "nav_menu": {},
   "number_sections": true,
   "sideBar": true,
   "skip_h1_title": false,
   "title_cell": "Table of Contents",
   "title_sidebar": "Contents",
   "toc_cell": true,
   "toc_position": {},
   "toc_section_display": true,
   "toc_window_display": false
  }
 },
 "nbformat": 4,
 "nbformat_minor": 2
}

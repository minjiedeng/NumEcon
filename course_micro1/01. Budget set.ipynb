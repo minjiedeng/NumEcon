{
 "cells": [
  {
   "cell_type": "markdown",
   "metadata": {
    "toc": true
   },
   "source": [
    "<h1>Table of Contents<span class=\"tocSkip\"></span></h1>\n",
    "<div class=\"toc\"><ul class=\"toc-item\"><li><span><a href=\"#Setup\" data-toc-modified-id=\"Setup-1\"><span class=\"toc-item-num\">1&nbsp;&nbsp;</span>Setup</a></span></li><li><span><a href=\"#Budget-set\" data-toc-modified-id=\"Budget-set-2\"><span class=\"toc-item-num\">2&nbsp;&nbsp;</span>Budget set</a></span></li><li><span><a href=\"#Budget-set-with-endowment\" data-toc-modified-id=\"Budget-set-with-endowment-3\"><span class=\"toc-item-num\">3&nbsp;&nbsp;</span>Budget set with endowment</a></span></li><li><span><a href=\"#Kinked-budget-set\" data-toc-modified-id=\"Kinked-budget-set-4\"><span class=\"toc-item-num\">4&nbsp;&nbsp;</span>Kinked budget set</a></span></li><li><span><a href=\"#Budget-set-with-exogenous-income-in-3D\" data-toc-modified-id=\"Budget-set-with-exogenous-income-in-3D-5\"><span class=\"toc-item-num\">5&nbsp;&nbsp;</span>Budget set with exogenous income in 3D</a></span></li></ul></div>"
   ]
  },
  {
   "cell_type": "markdown",
   "metadata": {},
   "source": [
    "**Description:** This is a Jupyter Notebook with Python code. You do not need any knowledge or either Jupyter or Python to run it.\n",
    "\n",
    "**To run all:** Kernel $\\rightarrow$ Restart & Run All\n",
    "\n",
    "**To run each cell press:**\n",
    "\n",
    "1. <kbd>Ctrl</kbd>+<kbd>Enter</kbd> to just run the cell\n",
    "2. <kbd>Ctrl</kbd>+<kbd>Shift</kbd>+<kbd>Enter</kbd> to the run the cell and proceed to the next"
   ]
  },
  {
   "cell_type": "markdown",
   "metadata": {},
   "source": [
    "# Setup"
   ]
  },
  {
   "cell_type": "code",
   "execution_count": 1,
   "metadata": {
    "ExecuteTime": {
     "end_time": "2018-11-21T11:40:14.752951Z",
     "start_time": "2018-11-21T11:40:14.212796Z"
    },
    "code_folding": [],
    "scrolled": true
   },
   "outputs": [],
   "source": [
    "# imports and settings\n",
    "%matplotlib inline\n",
    "%load_ext autoreload\n",
    "%autoreload 1\n",
    "\n",
    "import context\n",
    "import numecon.course_micro1.budgetset as budgetset\n",
    "%aimport numecon.course_micro1.budgetset"
   ]
  },
  {
   "cell_type": "code",
   "execution_count": 2,
   "metadata": {
    "ExecuteTime": {
     "end_time": "2018-11-21T11:40:14.759950Z",
     "start_time": "2018-11-21T11:40:14.753954Z"
    },
    "code_folding": [
     0
    ]
   },
   "outputs": [
    {
     "data": {
      "text/html": [
       "<style>\n",
       ".output_wrapper, .output {\n",
       "    height:auto !important;\n",
       "    max-height:5000px;  /* your desired max-height here */\n",
       "}\n",
       ".output_scroll {\n",
       "    box-shadow:none !important;\n",
       "    webkit-box-shadow:none !important;\n",
       "}\n",
       "</style>"
      ],
      "text/plain": [
       "<IPython.core.display.HTML object>"
      ]
     },
     "metadata": {},
     "output_type": "display_data"
    }
   ],
   "source": [
    "%%html\n",
    "<style>\n",
    ".output_wrapper, .output {\n",
    "    height:auto !important;\n",
    "    max-height:5000px;  /* your desired max-height here */\n",
    "}\n",
    ".output_scroll {\n",
    "    box-shadow:none !important;\n",
    "    webkit-box-shadow:none !important;\n",
    "}\n",
    "</style>"
   ]
  },
  {
   "cell_type": "markdown",
   "metadata": {},
   "source": [
    "# Budget set"
   ]
  },
  {
   "cell_type": "markdown",
   "metadata": {},
   "source": [
    "$$C(p_1,p_2,I) = \\{(x_1,x_2) \\in \\mathbb{R}_{+}^2 \\,\\, | \\,\\, p_1 x_1 + p_2 x_2 \\leq I\\} $$"
   ]
  },
  {
   "cell_type": "code",
   "execution_count": 3,
   "metadata": {
    "ExecuteTime": {
     "end_time": "2018-11-21T11:40:15.156814Z",
     "start_time": "2018-11-21T11:40:14.760950Z"
    },
    "scrolled": false
   },
   "outputs": [
    {
     "data": {
      "application/vnd.jupyter.widget-view+json": {
       "model_id": "d26eb70c85f3449face8881ca624e623",
       "version_major": 2,
       "version_minor": 0
      },
      "text/plain": [
       "interactive(children=(FloatSlider(value=2.0, description='$p_1$', max=5.0, min=0.1, step=0.05), FloatSlider(va…"
      ]
     },
     "metadata": {},
     "output_type": "display_data"
    }
   ],
   "source": [
    "budgetset.exogenous();"
   ]
  },
  {
   "cell_type": "markdown",
   "metadata": {},
   "source": [
    "# Budget set with endowment"
   ]
  },
  {
   "cell_type": "markdown",
   "metadata": {},
   "source": [
    "$$C(p_1,p_2,I) = \\{(x_1,x_2) \\in \\mathbb{R}_{+}^2 \\,\\, | \\,\\, p_1 x_1 + p_2 x_2 \\leq p_1 e_1 + p_2 e_2\\} $$"
   ]
  },
  {
   "cell_type": "code",
   "execution_count": 4,
   "metadata": {
    "ExecuteTime": {
     "end_time": "2018-11-21T11:40:15.324906Z",
     "start_time": "2018-11-21T11:40:15.157813Z"
    },
    "scrolled": false
   },
   "outputs": [
    {
     "data": {
      "application/vnd.jupyter.widget-view+json": {
       "model_id": "e4afc18120f0474e8e728162ccda14bb",
       "version_major": 2,
       "version_minor": 0
      },
      "text/plain": [
       "interactive(children=(FloatSlider(value=2.0, description='$p_1$', max=5.0, min=0.1, step=0.05), FloatSlider(va…"
      ]
     },
     "metadata": {},
     "output_type": "display_data"
    }
   ],
   "source": [
    "budgetset.endowment();"
   ]
  },
  {
   "cell_type": "markdown",
   "metadata": {},
   "source": [
    "# Kinked budget set"
   ]
  },
  {
   "cell_type": "markdown",
   "metadata": {},
   "source": [
    "$$ C(p_{1}^{A},p_{1}^{B},p_{2},I) =  \\left\\{ (x_{1},x_{2})\\in\\mathbb{R}_{+}^{2}\\,|\\,\\begin{cases}\n",
    "p_{1}^{A}x_{1}+p_{2}x_{2} \\leq I & \\text{hvis }x_{1}\\leq\\overline{x}_{1}\\\\\n",
    "p_{1}^{B}(x_{1}-\\overline{x})+p_{2}x_{2} \\leq  I-p_{1}^{A}\\overline{x}_1 & \\text{hvis }x_{1}>\\overline{x}_{1}\n",
    "\\end{cases}\\right\\}  $$"
   ]
  },
  {
   "cell_type": "code",
   "execution_count": 5,
   "metadata": {
    "ExecuteTime": {
     "end_time": "2018-11-21T11:40:15.492817Z",
     "start_time": "2018-11-21T11:40:15.326907Z"
    },
    "scrolled": true
   },
   "outputs": [
    {
     "data": {
      "application/vnd.jupyter.widget-view+json": {
       "model_id": "a7d4b1c610254ee2bb5a2a6016b720cd",
       "version_major": 2,
       "version_minor": 0
      },
      "text/plain": [
       "interactive(children=(FloatSlider(value=1.0, description='$p_1^A$', max=5.0, min=0.1, step=0.05), FloatSlider(…"
      ]
     },
     "metadata": {},
     "output_type": "display_data"
    }
   ],
   "source": [
    "budgetset.kink();"
   ]
  },
  {
   "cell_type": "markdown",
   "metadata": {},
   "source": [
    "# Budget set with exogenous income in 3D"
   ]
  },
  {
   "cell_type": "markdown",
   "metadata": {},
   "source": [
    "$$C(p_1,p_2,p_3,I) = \\{(x_1,x_2,x_3) \\in \\mathbb{R}_{+}^3 \\,\\, | \\,\\, p_1 x_1 + p_2 x_2 + p_3 x_3 \\leq I\\} $$"
   ]
  },
  {
   "cell_type": "code",
   "execution_count": 6,
   "metadata": {
    "ExecuteTime": {
     "end_time": "2018-11-21T11:40:15.718685Z",
     "start_time": "2018-11-21T11:40:15.493811Z"
    },
    "scrolled": false
   },
   "outputs": [
    {
     "data": {
      "application/vnd.jupyter.widget-view+json": {
       "model_id": "71afee43991d48b5b10ebdb5d5b1cc33",
       "version_major": 2,
       "version_minor": 0
      },
      "text/plain": [
       "interactive(children=(FloatSlider(value=1.0, description='$p_1$', max=5.0, min=0.1, step=0.05), FloatSlider(va…"
      ]
     },
     "metadata": {},
     "output_type": "display_data"
    }
   ],
   "source": [
    "budgetset.D3();"
   ]
  }
 ],
 "metadata": {
  "kernelspec": {
   "display_name": "Python 3",
   "language": "python",
   "name": "python3"
  },
  "language_info": {
   "codemirror_mode": {
    "name": "ipython",
    "version": 3
   },
   "file_extension": ".py",
   "mimetype": "text/x-python",
   "name": "python",
   "nbconvert_exporter": "python",
   "pygments_lexer": "ipython3",
   "version": "3.7.0"
  },
  "toc": {
   "base_numbering": 1,
   "nav_menu": {},
   "number_sections": true,
   "sideBar": true,
   "skip_h1_title": false,
   "title_cell": "Table of Contents",
   "title_sidebar": "Contents",
   "toc_cell": true,
   "toc_position": {},
   "toc_section_display": true,
   "toc_window_display": false
  }
 },
 "nbformat": 4,
 "nbformat_minor": 2
}

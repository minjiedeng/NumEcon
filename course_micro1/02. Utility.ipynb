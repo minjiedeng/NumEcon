{
 "cells": [
  {
   "cell_type": "markdown",
   "metadata": {
    "toc": true
   },
   "source": [
    "<h1>Table of Contents<span class=\"tocSkip\"></span></h1>\n",
    "<div class=\"toc\"><ul class=\"toc-item\"><li><span><a href=\"#Setup\" data-toc-modified-id=\"Setup-1\"><span class=\"toc-item-num\">1&nbsp;&nbsp;</span>Setup</a></span></li><li><span><a href=\"#Cobb-Dogulas\" data-toc-modified-id=\"Cobb-Dogulas-2\"><span class=\"toc-item-num\">2&nbsp;&nbsp;</span>Cobb-Dogulas</a></span></li><li><span><a href=\"#Constant-Elasticity-of-Substitution-(CES)\" data-toc-modified-id=\"Constant-Elasticity-of-Substitution-(CES)-3\"><span class=\"toc-item-num\">3&nbsp;&nbsp;</span>Constant Elasticity of Substitution (CES)</a></span></li><li><span><a href=\"#Perfect-substitutes\" data-toc-modified-id=\"Perfect-substitutes-4\"><span class=\"toc-item-num\">4&nbsp;&nbsp;</span>Perfect substitutes</a></span></li><li><span><a href=\"#Perfect-complements\" data-toc-modified-id=\"Perfect-complements-5\"><span class=\"toc-item-num\">5&nbsp;&nbsp;</span>Perfect complements</a></span></li><li><span><a href=\"#Quasi-linear-(log)\" data-toc-modified-id=\"Quasi-linear-(log)-6\"><span class=\"toc-item-num\">6&nbsp;&nbsp;</span>Quasi-linear (log)</a></span></li><li><span><a href=\"#Quasi-linear-(sqrt)\" data-toc-modified-id=\"Quasi-linear-(sqrt)-7\"><span class=\"toc-item-num\">7&nbsp;&nbsp;</span>Quasi-linear (sqrt)</a></span></li><li><span><a href=\"#Concave\" data-toc-modified-id=\"Concave-8\"><span class=\"toc-item-num\">8&nbsp;&nbsp;</span>Concave</a></span></li><li><span><a href=\"#Quasi-quasi-linear\" data-toc-modified-id=\"Quasi-quasi-linear-9\"><span class=\"toc-item-num\">9&nbsp;&nbsp;</span>Quasi-quasi-linear</a></span></li><li><span><a href=\"#Saturated-(non-montone)\" data-toc-modified-id=\"Saturated-(non-montone)-10\"><span class=\"toc-item-num\">10&nbsp;&nbsp;</span>Saturated (non-montone)</a></span></li><li><span><a href=\"#Arbitrary-function\" data-toc-modified-id=\"Arbitrary-function-11\"><span class=\"toc-item-num\">11&nbsp;&nbsp;</span>Arbitrary function</a></span><ul class=\"toc-item\"><li><span><a href=\"#Cobb-Douglas-once-again\" data-toc-modified-id=\"Cobb-Douglas-once-again-11.1\"><span class=\"toc-item-num\">11.1&nbsp;&nbsp;</span>Cobb-Douglas once again</a></span></li></ul></li></ul></div>"
   ]
  },
  {
   "cell_type": "markdown",
   "metadata": {},
   "source": [
    "**Description:** This is a Jupyter Notebook with Python code. You do not need any knowledge or either Jupyter or Python to run it.\n",
    "\n",
    "**To run all:** Kernel $\\rightarrow$ Restart & Run All\n",
    "\n",
    "**To run each cell press:**\n",
    "\n",
    "1. <kbd>Ctrl</kbd>+<kbd>Enter</kbd> to just run the cell\n",
    "2. <kbd>Ctrl</kbd>+<kbd>Shift</kbd>+<kbd>Enter</kbd> to the run the cell and proceed to the next"
   ]
  },
  {
   "cell_type": "markdown",
   "metadata": {},
   "source": [
    "# Setup"
   ]
  },
  {
   "cell_type": "code",
   "execution_count": 1,
   "metadata": {
    "code_folding": [
     0
    ]
   },
   "outputs": [],
   "source": [
    "# imports and settings\n",
    "%matplotlib inline\n",
    "%load_ext autoreload\n",
    "%autoreload 1\n",
    "\n",
    "import context\n",
    "import numecon.course_micro1.utility as consumer\n",
    "%aimport numecon.course_micro1.consumer\n",
    "import numecon.course_micro1.utility as utility\n",
    "%aimport numecon.course_micro1.utility"
   ]
  },
  {
   "cell_type": "code",
   "execution_count": 2,
   "metadata": {
    "code_folding": [
     0
    ]
   },
   "outputs": [
    {
     "data": {
      "text/html": [
       "<style>\n",
       ".output_wrapper, .output {\n",
       "    height:auto !important;\n",
       "    max-height:5000px;  /* your desired max-height here */\n",
       "}\n",
       ".output_scroll {\n",
       "    box-shadow:none !important;\n",
       "    webkit-box-shadow:none !important;\n",
       "}\n",
       "</style>"
      ],
      "text/plain": [
       "<IPython.core.display.HTML object>"
      ]
     },
     "metadata": {},
     "output_type": "display_data"
    }
   ],
   "source": [
    "%%html\n",
    "<style>\n",
    ".output_wrapper, .output {\n",
    "    height:auto !important;\n",
    "    max-height:5000px;  /* your desired max-height here */\n",
    "}\n",
    ".output_scroll {\n",
    "    box-shadow:none !important;\n",
    "    webkit-box-shadow:none !important;\n",
    "}\n",
    "</style>"
   ]
  },
  {
   "cell_type": "markdown",
   "metadata": {},
   "source": [
    "# Cobb-Dogulas"
   ]
  },
  {
   "cell_type": "markdown",
   "metadata": {},
   "source": [
    "$$u(x_1,x_2) = x_1^{\\alpha}x_2^{\\beta}$$"
   ]
  },
  {
   "cell_type": "code",
   "execution_count": 3,
   "metadata": {
    "scrolled": true
   },
   "outputs": [
    {
     "data": {
      "application/vnd.jupyter.widget-view+json": {
       "model_id": "31ed9542e633495f9512fd3557238b03",
       "version_major": 2,
       "version_minor": 0
      },
      "text/plain": [
       "interactive(children=(FloatSlider(value=1.0, description='$\\\\alpha$', max=4.0, min=0.05, step=0.05), FloatSlid…"
      ]
     },
     "metadata": {},
     "output_type": "display_data"
    }
   ],
   "source": [
    "utility.cobb_douglas()"
   ]
  },
  {
   "cell_type": "markdown",
   "metadata": {},
   "source": [
    "# Constant Elasticity of Substitution (CES)"
   ]
  },
  {
   "cell_type": "markdown",
   "metadata": {},
   "source": [
    "$$u(x_1,x_2) = (\\alpha x_1^{-\\beta}+(1-\\alpha)x_2^{-\\beta})^{-1/\\beta}$$"
   ]
  },
  {
   "cell_type": "code",
   "execution_count": 4,
   "metadata": {
    "scrolled": true
   },
   "outputs": [
    {
     "data": {
      "application/vnd.jupyter.widget-view+json": {
       "model_id": "06c187ff0ebe4af8b8ba22d8feb7c328",
       "version_major": 2,
       "version_minor": 0
      },
      "text/plain": [
       "interactive(children=(FloatSlider(value=0.65, description='$\\\\alpha$', max=0.99, min=0.05, step=0.05), FloatSl…"
      ]
     },
     "metadata": {},
     "output_type": "display_data"
    }
   ],
   "source": [
    "utility.ces()"
   ]
  },
  {
   "cell_type": "markdown",
   "metadata": {},
   "source": [
    "# Perfect substitutes"
   ]
  },
  {
   "cell_type": "markdown",
   "metadata": {},
   "source": [
    "$$u(x_1,x_2) = \\alpha x_1 + \\beta x_2$$"
   ]
  },
  {
   "cell_type": "code",
   "execution_count": 5,
   "metadata": {
    "scrolled": true
   },
   "outputs": [
    {
     "data": {
      "application/vnd.jupyter.widget-view+json": {
       "model_id": "aa9fa432fe924abf9eb3bfd1f53ebaef",
       "version_major": 2,
       "version_minor": 0
      },
      "text/plain": [
       "interactive(children=(FloatSlider(value=1.0, description='$\\\\alpha$', max=4.0, min=0.05, step=0.05), FloatSlid…"
      ]
     },
     "metadata": {},
     "output_type": "display_data"
    }
   ],
   "source": [
    "utility.perfect_substitutes()"
   ]
  },
  {
   "cell_type": "markdown",
   "metadata": {},
   "source": [
    "# Perfect complements"
   ]
  },
  {
   "cell_type": "markdown",
   "metadata": {},
   "source": [
    "$$u(x_1,x_2) = \\min{\\{\\alpha x_1 + \\beta x_2}\\}$$"
   ]
  },
  {
   "cell_type": "code",
   "execution_count": 6,
   "metadata": {},
   "outputs": [
    {
     "data": {
      "application/vnd.jupyter.widget-view+json": {
       "model_id": "bf4ad100bb00431a8876487e24f88e68",
       "version_major": 2,
       "version_minor": 0
      },
      "text/plain": [
       "interactive(children=(FloatSlider(value=1.0, description='$\\\\alpha$', max=4.0, min=0.05, step=0.05), FloatSlid…"
      ]
     },
     "metadata": {},
     "output_type": "display_data"
    }
   ],
   "source": [
    "utility.perfect_complements()"
   ]
  },
  {
   "cell_type": "markdown",
   "metadata": {},
   "source": [
    "# Quasi-linear (log)"
   ]
  },
  {
   "cell_type": "markdown",
   "metadata": {},
   "source": [
    "$$u(x_1,x_2) = \\alpha\\log(x_1) + \\beta x_2$$"
   ]
  },
  {
   "cell_type": "code",
   "execution_count": 7,
   "metadata": {
    "scrolled": true
   },
   "outputs": [
    {
     "data": {
      "application/vnd.jupyter.widget-view+json": {
       "model_id": "c13be63e61d0467c874cd65ac73fe535",
       "version_major": 2,
       "version_minor": 0
      },
      "text/plain": [
       "interactive(children=(FloatSlider(value=1.0, description='$\\\\alpha$', max=4.0, min=0.05, step=0.05), FloatSlid…"
      ]
     },
     "metadata": {},
     "output_type": "display_data"
    }
   ],
   "source": [
    "utility.quasi_linear_log()"
   ]
  },
  {
   "cell_type": "markdown",
   "metadata": {},
   "source": [
    "# Quasi-linear (sqrt)"
   ]
  },
  {
   "cell_type": "markdown",
   "metadata": {},
   "source": [
    "$$u(x_1,x_2) = \\alpha\\sqrt(x_1) + \\beta x_2$$"
   ]
  },
  {
   "cell_type": "code",
   "execution_count": 8,
   "metadata": {},
   "outputs": [
    {
     "data": {
      "application/vnd.jupyter.widget-view+json": {
       "model_id": "d5a23faa48bb45c3b667aecde16e54f7",
       "version_major": 2,
       "version_minor": 0
      },
      "text/plain": [
       "interactive(children=(FloatSlider(value=1.0, description='$\\\\alpha$', max=4.0, min=0.05, step=0.05), FloatSlid…"
      ]
     },
     "metadata": {},
     "output_type": "display_data"
    }
   ],
   "source": [
    "utility.quasi_linear_sqrt()"
   ]
  },
  {
   "cell_type": "markdown",
   "metadata": {},
   "source": [
    "# Concave"
   ]
  },
  {
   "cell_type": "markdown",
   "metadata": {},
   "source": [
    "$$ u(x_1,x_2) = \\alpha x_1^2 + \\beta x_2^2 $$"
   ]
  },
  {
   "cell_type": "code",
   "execution_count": 9,
   "metadata": {
    "scrolled": true
   },
   "outputs": [
    {
     "data": {
      "application/vnd.jupyter.widget-view+json": {
       "model_id": "e12d2209aa5a43e7879e08c24da71fd6",
       "version_major": 2,
       "version_minor": 0
      },
      "text/plain": [
       "interactive(children=(FloatSlider(value=1.0, description='$\\\\alpha$', max=4.0, min=0.05, step=0.05), FloatSlid…"
      ]
     },
     "metadata": {},
     "output_type": "display_data"
    }
   ],
   "source": [
    "utility.concave()"
   ]
  },
  {
   "cell_type": "markdown",
   "metadata": {},
   "source": [
    "# Quasi-quasi-linear"
   ]
  },
  {
   "cell_type": "markdown",
   "metadata": {},
   "source": [
    "$$ u(x_1,x_2) = x_1^{\\alpha} (x_2 + \\beta) $$"
   ]
  },
  {
   "cell_type": "code",
   "execution_count": 10,
   "metadata": {
    "scrolled": true
   },
   "outputs": [
    {
     "data": {
      "application/vnd.jupyter.widget-view+json": {
       "model_id": "2fcf881e38284b948c32bb808ba373de",
       "version_major": 2,
       "version_minor": 0
      },
      "text/plain": [
       "interactive(children=(FloatSlider(value=1.0, description='$\\\\alpha$', max=4.0, min=0.05, step=0.05), FloatSlid…"
      ]
     },
     "metadata": {},
     "output_type": "display_data"
    }
   ],
   "source": [
    "utility.quasi_quasi_linear()"
   ]
  },
  {
   "cell_type": "markdown",
   "metadata": {},
   "source": [
    "# Saturated (non-montone)"
   ]
  },
  {
   "cell_type": "markdown",
   "metadata": {},
   "source": [
    "$$ u(x_1,x_2) = -(x_1-\\alpha)^2 - (x_2-\\beta)^2 $$"
   ]
  },
  {
   "cell_type": "code",
   "execution_count": 11,
   "metadata": {},
   "outputs": [
    {
     "data": {
      "application/vnd.jupyter.widget-view+json": {
       "model_id": "3cb35706ad7046028c8062684a574e00",
       "version_major": 2,
       "version_minor": 0
      },
      "text/plain": [
       "interactive(children=(FloatSlider(value=5.0, description='$\\\\alpha$', max=8.0, step=0.05), FloatSlider(value=5…"
      ]
     },
     "metadata": {},
     "output_type": "display_data"
    }
   ],
   "source": [
    "utility.saturated()"
   ]
  },
  {
   "cell_type": "markdown",
   "metadata": {},
   "source": [
    "# Arbitrary function"
   ]
  },
  {
   "cell_type": "markdown",
   "metadata": {},
   "source": [
    "$$ u(x_1,x_2,) = f(x_1,x_2,\\alpha,\\beta)$$"
   ]
  },
  {
   "cell_type": "markdown",
   "metadata": {},
   "source": [
    "## Cobb-Douglas once again"
   ]
  },
  {
   "cell_type": "code",
   "execution_count": 12,
   "metadata": {
    "scrolled": true
   },
   "outputs": [
    {
     "data": {
      "application/vnd.jupyter.widget-view+json": {
       "model_id": "ee81818c5de440bba35f32ad5e7ad461",
       "version_major": 2,
       "version_minor": 0
      },
      "text/plain": [
       "interactive(children=(FloatSlider(value=0.5, description='$\\\\alpha$', max=0.99, min=0.05, step=0.05), FloatSli…"
      ]
     },
     "metadata": {},
     "output_type": "display_data"
    }
   ],
   "source": [
    "def my_utility_func(x1,x2,alpha,beta):\n",
    "    return x1**alpha*x2**beta\n",
    "\n",
    "alpha = 0.50\n",
    "beta = 0.50\n",
    "alpha_bounds = [0.05,0.99]\n",
    "beta_bounds = [0.05,0.99]\n",
    "\n",
    "utility.arbitrary(my_utility_func,alpha,beta,alpha_bounds,beta_bounds,plot_type='line')"
   ]
  }
 ],
 "metadata": {
  "kernelspec": {
   "display_name": "Python 3",
   "language": "python",
   "name": "python3"
  },
  "language_info": {
   "codemirror_mode": {
    "name": "ipython",
    "version": 3
   },
   "file_extension": ".py",
   "mimetype": "text/x-python",
   "name": "python",
   "nbconvert_exporter": "python",
   "pygments_lexer": "ipython3",
   "version": "3.6.5"
  },
  "toc": {
   "base_numbering": 1,
   "nav_menu": {},
   "number_sections": true,
   "sideBar": true,
   "skip_h1_title": false,
   "title_cell": "Table of Contents",
   "title_sidebar": "Contents",
   "toc_cell": true,
   "toc_position": {},
   "toc_section_display": true,
   "toc_window_display": false
  }
 },
 "nbformat": 4,
 "nbformat_minor": 2
}

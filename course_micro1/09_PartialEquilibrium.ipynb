{
 "cells": [
  {
   "cell_type": "code",
   "execution_count": 1,
   "metadata": {
    "ExecuteTime": {
     "end_time": "2018-11-21T11:46:45.869015Z",
     "start_time": "2018-11-21T11:46:45.860018Z"
    },
    "scrolled": true
   },
   "outputs": [
    {
     "name": "stdout",
     "output_type": "stream",
     "text": [
      "demand =      25.0000 -> market demand = 1600000.0000\n",
      "supply =    1280.0000 -> market supply = 1600000.0000\n",
      "p_LR   =       5.0000\n",
      "demand =      25.0000 -> market demand = 1600000.0000\n",
      "x_min  =    1280.0000  -> J_LR =    1250.0000\n"
     ]
    }
   ],
   "source": [
    "alpha = 50\n",
    "N = 64*10**3\n",
    "A = 20 \n",
    "a = 2/5\n",
    "w = 20\n",
    "r = 10\n",
    "kbar = 256\n",
    "J = 1250\n",
    "FC = 1280\n",
    "\n",
    "def demand_func(p,alpha):\n",
    "    return (alpha/(2*p))**2\n",
    "\n",
    "def market_demand_func(p,N,alpha):\n",
    "    return N*demand_func(p,alpha)\n",
    "\n",
    "def supply_func(p,w,kbar,A,a):\n",
    "    return (a*p/w*(A*kbar**a)**(1/a))**(a/(1-a))\n",
    "\n",
    "def market_supply_func(p,w,J,kbar,A,a):\n",
    "    return J*supply_func(p,w,kbar,A,a)\n",
    "\n",
    "def AC_func(x,w,r,FC,a,A):\n",
    "    eta = 2*(w*r)**(0.5)/(A**(1/(2*a)))\n",
    "    return eta*x**(1/(2*a)-1) + FC/x\n",
    "    \n",
    "def x_min_AC_func(w,r,a,A):\n",
    "    return A*(4*FC**2/(w*r))**a\n",
    "\n",
    "p = 5\n",
    "\n",
    "demand = demand_func(p,alpha)\n",
    "market_demand = market_demand_func(p,N,alpha)\n",
    "\n",
    "supply = supply_func(p,w,kbar,A,a)\n",
    "market_supply = market_supply_func(p,w,J,kbar,A,a)\n",
    "\n",
    "print(f'demand = {demand:12.4f} -> market demand = {market_demand:12.4f}')\n",
    "print(f'supply = {supply:12.4f} -> market supply = {market_supply:12.4f}')\n",
    "\n",
    "x_min = x_min_AC_func(w,r,a,A)\n",
    "p_LR = AC_func(x_min,w,r,FC,a,A)\n",
    "\n",
    "demand = demand_func(p_LR,alpha)\n",
    "market_demand = market_demand_func(p_LR,N,alpha)\n",
    "\n",
    "J_LR = market_demand/x_min\n",
    "\n",
    "print(f'p_LR   = {p_LR:12.4f}')\n",
    "print(f'demand = {demand:12.4f} -> market demand = {market_demand:12.4f}')\n",
    "print(f'x_min  = {x_min:12.4f}  -> J_LR = {J_LR:12.4f}')"
   ]
  }
 ],
 "metadata": {
  "kernelspec": {
   "display_name": "Python 3",
   "language": "python",
   "name": "python3"
  },
  "language_info": {
   "codemirror_mode": {
    "name": "ipython",
    "version": 3
   },
   "file_extension": ".py",
   "mimetype": "text/x-python",
   "name": "python",
   "nbconvert_exporter": "python",
   "pygments_lexer": "ipython3",
   "version": "3.6.5"
  },
  "toc": {
   "base_numbering": 1,
   "nav_menu": {},
   "number_sections": true,
   "sideBar": true,
   "skip_h1_title": false,
   "title_cell": "Table of Contents",
   "title_sidebar": "Contents",
   "toc_cell": false,
   "toc_position": {},
   "toc_section_display": true,
   "toc_window_display": false
  }
 },
 "nbformat": 4,
 "nbformat_minor": 2
}

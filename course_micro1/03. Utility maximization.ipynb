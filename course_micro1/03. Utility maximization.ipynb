{
 "cells": [
  {
   "cell_type": "markdown",
   "metadata": {
    "toc": true
   },
   "source": [
    "<h1>Table of Contents<span class=\"tocSkip\"></span></h1>\n",
    "<div class=\"toc\"><ul class=\"toc-item\"><li><span><a href=\"#Setup\" data-toc-modified-id=\"Setup-1\"><span class=\"toc-item-num\">1&nbsp;&nbsp;</span>Setup</a></span></li><li><span><a href=\"#Budget-set\" data-toc-modified-id=\"Budget-set-2\"><span class=\"toc-item-num\">2&nbsp;&nbsp;</span>Budget set</a></span></li><li><span><a href=\"#Cobb-Dogulas\" data-toc-modified-id=\"Cobb-Dogulas-3\"><span class=\"toc-item-num\">3&nbsp;&nbsp;</span>Cobb-Dogulas</a></span></li><li><span><a href=\"#Constant-Elasticity-of-Substitution-(CES)\" data-toc-modified-id=\"Constant-Elasticity-of-Substitution-(CES)-4\"><span class=\"toc-item-num\">4&nbsp;&nbsp;</span>Constant Elasticity of Substitution (CES)</a></span></li><li><span><a href=\"#Perfect-substitutes\" data-toc-modified-id=\"Perfect-substitutes-5\"><span class=\"toc-item-num\">5&nbsp;&nbsp;</span>Perfect substitutes</a></span></li><li><span><a href=\"#Perfect-complements\" data-toc-modified-id=\"Perfect-complements-6\"><span class=\"toc-item-num\">6&nbsp;&nbsp;</span>Perfect complements</a></span></li><li><span><a href=\"#Quasi-linear-(log)\" data-toc-modified-id=\"Quasi-linear-(log)-7\"><span class=\"toc-item-num\">7&nbsp;&nbsp;</span>Quasi-linear (log)</a></span></li><li><span><a href=\"#Quasi-linear-(sqrt)\" data-toc-modified-id=\"Quasi-linear-(sqrt)-8\"><span class=\"toc-item-num\">8&nbsp;&nbsp;</span>Quasi-linear (sqrt)</a></span></li><li><span><a href=\"#Concave\" data-toc-modified-id=\"Concave-9\"><span class=\"toc-item-num\">9&nbsp;&nbsp;</span>Concave</a></span></li><li><span><a href=\"#Quasi-quasi-linear\" data-toc-modified-id=\"Quasi-quasi-linear-10\"><span class=\"toc-item-num\">10&nbsp;&nbsp;</span>Quasi-quasi-linear</a></span></li><li><span><a href=\"#Saturated-(non-montone)\" data-toc-modified-id=\"Saturated-(non-montone)-11\"><span class=\"toc-item-num\">11&nbsp;&nbsp;</span>Saturated (non-montone)</a></span></li><li><span><a href=\"#Arbitrary\" data-toc-modified-id=\"Arbitrary-12\"><span class=\"toc-item-num\">12&nbsp;&nbsp;</span>Arbitrary</a></span><ul class=\"toc-item\"><li><span><a href=\"#Cobb-Dogulas-once-again\" data-toc-modified-id=\"Cobb-Dogulas-once-again-12.1\"><span class=\"toc-item-num\">12.1&nbsp;&nbsp;</span>Cobb-Dogulas once again</a></span></li></ul></li></ul></div>"
   ]
  },
  {
   "cell_type": "markdown",
   "metadata": {},
   "source": [
    "**Description:** This is a Jupyter Notebook with Python code. You do not need any knowledge or either Jupyter or Python to run it.\n",
    "\n",
    "**To run all:** Kernel $\\rightarrow$ Restart & Run All\n",
    "\n",
    "**To run each cell press:**\n",
    "\n",
    "1. <kbd>Ctrl</kbd>+<kbd>Enter</kbd> to just run the cell\n",
    "2. <kbd>Ctrl</kbd>+<kbd>Shift</kbd>+<kbd>Enter</kbd> to the run the cell and proceed to the next"
   ]
  },
  {
   "cell_type": "markdown",
   "metadata": {},
   "source": [
    "# Setup"
   ]
  },
  {
   "cell_type": "code",
   "execution_count": 1,
   "metadata": {
    "code_folding": [
     0
    ]
   },
   "outputs": [],
   "source": [
    "# imports and settings\n",
    "%matplotlib inline\n",
    "%load_ext autoreload\n",
    "%autoreload 1\n",
    "\n",
    "import context\n",
    "import numecon.course_micro1.utilitymax as consumer\n",
    "%aimport numecon.course_micro1.consumer\n",
    "import numecon.course_micro1.utilitymax as utilitymax\n",
    "%aimport numecon.course_micro1.utilitymax"
   ]
  },
  {
   "cell_type": "code",
   "execution_count": 2,
   "metadata": {
    "code_folding": [
     0
    ]
   },
   "outputs": [
    {
     "data": {
      "text/html": [
       "<style>\n",
       ".output_wrapper, .output {\n",
       "    height:auto !important;\n",
       "    max-height:5000px;  /* your desired max-height here */\n",
       "}\n",
       ".output_scroll {\n",
       "    box-shadow:none !important;\n",
       "    webkit-box-shadow:none !important;\n",
       "}\n",
       "</style>"
      ],
      "text/plain": [
       "<IPython.core.display.HTML object>"
      ]
     },
     "metadata": {},
     "output_type": "display_data"
    }
   ],
   "source": [
    "%%html\n",
    "<style>\n",
    ".output_wrapper, .output {\n",
    "    height:auto !important;\n",
    "    max-height:5000px;  /* your desired max-height here */\n",
    "}\n",
    ".output_scroll {\n",
    "    box-shadow:none !important;\n",
    "    webkit-box-shadow:none !important;\n",
    "}\n",
    "</style>"
   ]
  },
  {
   "cell_type": "markdown",
   "metadata": {},
   "source": [
    "# Budget set"
   ]
  },
  {
   "cell_type": "markdown",
   "metadata": {},
   "source": [
    "$$C(p_1,p_2,I) = \\{(x_1,x_2) \\in \\mathbb{R}_{+}^2 \\,\\, | \\,\\, p_1 x_1 + p_2 x_2 \\leq I\\} $$\n",
    "\n",
    "Let $\\gamma \\in [0,1]$ denote a guess on the optimal budget share for $x_1$ implying\n",
    "\n",
    "$$ x_1^{\\gamma} = \\gamma \\frac{I}{p_1} $$\n",
    "\n",
    "and\n",
    "\n",
    "$$ x_2^{\\gamma} = \\frac{I - \\gamma I/p_1}{p_2} $$"
   ]
  },
  {
   "cell_type": "markdown",
   "metadata": {},
   "source": [
    "# Cobb-Dogulas"
   ]
  },
  {
   "cell_type": "markdown",
   "metadata": {},
   "source": [
    "$$u(x_1,x_2) = x_1^{\\alpha}x_2^{\\beta}$$"
   ]
  },
  {
   "cell_type": "code",
   "execution_count": 3,
   "metadata": {
    "scrolled": false
   },
   "outputs": [
    {
     "data": {
      "application/vnd.jupyter.widget-view+json": {
       "model_id": "4cdbdb66daf5412baf0f78bb68d08fb0",
       "version_major": 2,
       "version_minor": 0
      },
      "text/plain": [
       "interactive(children=(FloatSlider(value=1.0, description='$p_1$', max=4.0, min=0.05, step=0.05), FloatSlider(v…"
      ]
     },
     "metadata": {},
     "output_type": "display_data"
    }
   ],
   "source": [
    "utilitymax.cobb_douglas()"
   ]
  },
  {
   "cell_type": "markdown",
   "metadata": {},
   "source": [
    "# Constant Elasticity of Substitution (CES)"
   ]
  },
  {
   "cell_type": "markdown",
   "metadata": {},
   "source": [
    "$$u(x_1,x_2) = (\\alpha x_1^{-\\beta}+(1-\\alpha)x_2^{-\\beta})^{-1/\\beta}$$"
   ]
  },
  {
   "cell_type": "code",
   "execution_count": 4,
   "metadata": {
    "scrolled": false
   },
   "outputs": [
    {
     "data": {
      "application/vnd.jupyter.widget-view+json": {
       "model_id": "382f1d7a61e8494ebb838472538fc753",
       "version_major": 2,
       "version_minor": 0
      },
      "text/plain": [
       "interactive(children=(FloatSlider(value=1.0, description='$p_1$', max=4.0, min=0.05, step=0.05), FloatSlider(v…"
      ]
     },
     "metadata": {},
     "output_type": "display_data"
    }
   ],
   "source": [
    "utilitymax.ces()"
   ]
  },
  {
   "cell_type": "markdown",
   "metadata": {},
   "source": [
    "# Perfect substitutes"
   ]
  },
  {
   "cell_type": "markdown",
   "metadata": {},
   "source": [
    "$$u(x_1,x_2) = \\alpha x_1 + \\beta x_2$$"
   ]
  },
  {
   "cell_type": "code",
   "execution_count": 5,
   "metadata": {
    "scrolled": true
   },
   "outputs": [
    {
     "data": {
      "application/vnd.jupyter.widget-view+json": {
       "model_id": "d0e96217068f41958328951d32234bd5",
       "version_major": 2,
       "version_minor": 0
      },
      "text/plain": [
       "interactive(children=(FloatSlider(value=1.5, description='$p_1$', max=4.0, min=0.05, step=0.05), FloatSlider(v…"
      ]
     },
     "metadata": {},
     "output_type": "display_data"
    }
   ],
   "source": [
    "utilitymax.perfect_substitutes()"
   ]
  },
  {
   "cell_type": "markdown",
   "metadata": {},
   "source": [
    "# Perfect complements"
   ]
  },
  {
   "cell_type": "markdown",
   "metadata": {},
   "source": [
    "$$u(x_1,x_2) = \\min{\\{\\alpha x_1 + \\beta x_2}\\}$$"
   ]
  },
  {
   "cell_type": "code",
   "execution_count": 6,
   "metadata": {},
   "outputs": [
    {
     "data": {
      "application/vnd.jupyter.widget-view+json": {
       "model_id": "e9b579ac24a841eb90681f6ea05ab0ea",
       "version_major": 2,
       "version_minor": 0
      },
      "text/plain": [
       "interactive(children=(FloatSlider(value=1.0, description='$p_1$', max=4.0, min=0.05, step=0.05), FloatSlider(v…"
      ]
     },
     "metadata": {},
     "output_type": "display_data"
    }
   ],
   "source": [
    "utilitymax.perfect_complements()"
   ]
  },
  {
   "cell_type": "markdown",
   "metadata": {},
   "source": [
    "# Quasi-linear (log)"
   ]
  },
  {
   "cell_type": "markdown",
   "metadata": {},
   "source": [
    "$$u(x_1,x_2) = \\alpha\\log(x_1) + \\beta x_2$$"
   ]
  },
  {
   "cell_type": "code",
   "execution_count": 7,
   "metadata": {
    "scrolled": true
   },
   "outputs": [
    {
     "data": {
      "application/vnd.jupyter.widget-view+json": {
       "model_id": "1dd7136b6eba45d99bdcdbfc354a9328",
       "version_major": 2,
       "version_minor": 0
      },
      "text/plain": [
       "interactive(children=(FloatSlider(value=1.0, description='$p_1$', max=4.0, min=0.05, step=0.05), FloatSlider(v…"
      ]
     },
     "metadata": {},
     "output_type": "display_data"
    }
   ],
   "source": [
    "utilitymax.quasi_linear_log()"
   ]
  },
  {
   "cell_type": "markdown",
   "metadata": {},
   "source": [
    "# Quasi-linear (sqrt)"
   ]
  },
  {
   "cell_type": "markdown",
   "metadata": {},
   "source": [
    "$$u(x_1,x_2) = \\alpha\\sqrt(x_1) + \\beta x_2$$"
   ]
  },
  {
   "cell_type": "code",
   "execution_count": 8,
   "metadata": {
    "scrolled": true
   },
   "outputs": [
    {
     "data": {
      "application/vnd.jupyter.widget-view+json": {
       "model_id": "17f5c5b71c5940e6b3c2c6402e758eab",
       "version_major": 2,
       "version_minor": 0
      },
      "text/plain": [
       "interactive(children=(FloatSlider(value=1.0, description='$p_1$', max=4.0, min=0.05, step=0.05), FloatSlider(v…"
      ]
     },
     "metadata": {},
     "output_type": "display_data"
    }
   ],
   "source": [
    "utilitymax.quasi_linear_sqrt()"
   ]
  },
  {
   "cell_type": "markdown",
   "metadata": {},
   "source": [
    "# Concave"
   ]
  },
  {
   "cell_type": "markdown",
   "metadata": {},
   "source": [
    "$$ u(x_1,x_2) = \\alpha x_1^2 + \\beta x_2^2 $$"
   ]
  },
  {
   "cell_type": "code",
   "execution_count": 9,
   "metadata": {},
   "outputs": [
    {
     "data": {
      "application/vnd.jupyter.widget-view+json": {
       "model_id": "953ae399810245a2af91e65f6c5372c7",
       "version_major": 2,
       "version_minor": 0
      },
      "text/plain": [
       "interactive(children=(FloatSlider(value=1.0, description='$p_1$', max=4.0, min=0.05, step=0.05), FloatSlider(v…"
      ]
     },
     "metadata": {},
     "output_type": "display_data"
    }
   ],
   "source": [
    "utilitymax.concave()"
   ]
  },
  {
   "cell_type": "markdown",
   "metadata": {},
   "source": [
    "# Quasi-quasi-linear"
   ]
  },
  {
   "cell_type": "markdown",
   "metadata": {},
   "source": [
    "$$ u(x_1,x_2) = x_1^{\\alpha} (x_2 + \\beta) $$"
   ]
  },
  {
   "cell_type": "code",
   "execution_count": 10,
   "metadata": {
    "scrolled": true
   },
   "outputs": [
    {
     "data": {
      "application/vnd.jupyter.widget-view+json": {
       "model_id": "7e8484fc2e70499da9bec91dcaba1c7a",
       "version_major": 2,
       "version_minor": 0
      },
      "text/plain": [
       "interactive(children=(FloatSlider(value=1.0, description='$p_1$', max=4.0, min=0.05, step=0.05), FloatSlider(v…"
      ]
     },
     "metadata": {},
     "output_type": "display_data"
    }
   ],
   "source": [
    "utilitymax.quasi_quasi_linear()"
   ]
  },
  {
   "cell_type": "markdown",
   "metadata": {},
   "source": [
    "# Saturated (non-montone)"
   ]
  },
  {
   "cell_type": "markdown",
   "metadata": {},
   "source": [
    "$$ u(x_1,x_2) = -(x_1-\\alpha)^2 - (x_2-\\beta)^2 $$"
   ]
  },
  {
   "cell_type": "code",
   "execution_count": 11,
   "metadata": {
    "scrolled": true
   },
   "outputs": [
    {
     "data": {
      "application/vnd.jupyter.widget-view+json": {
       "model_id": "106dfaadee80424ab97ca40054aba0b8",
       "version_major": 2,
       "version_minor": 0
      },
      "text/plain": [
       "interactive(children=(FloatSlider(value=1.0, description='$p_1$', max=4.0, min=0.05, step=0.05), FloatSlider(v…"
      ]
     },
     "metadata": {},
     "output_type": "display_data"
    }
   ],
   "source": [
    "utilitymax.saturated()"
   ]
  },
  {
   "cell_type": "markdown",
   "metadata": {},
   "source": [
    "# Arbitrary"
   ]
  },
  {
   "cell_type": "markdown",
   "metadata": {},
   "source": [
    "$$ u(x_1,x_2,) = f(x_1,x_2,\\alpha,\\beta)$$"
   ]
  },
  {
   "cell_type": "markdown",
   "metadata": {},
   "source": [
    "## Cobb-Dogulas once again"
   ]
  },
  {
   "cell_type": "code",
   "execution_count": 12,
   "metadata": {
    "scrolled": true
   },
   "outputs": [
    {
     "data": {
      "application/vnd.jupyter.widget-view+json": {
       "model_id": "71e622da24764935b8b882827453b02c",
       "version_major": 2,
       "version_minor": 0
      },
      "text/plain": [
       "interactive(children=(FloatSlider(value=1.0, description='$p_1$', max=4.0, min=0.05, step=0.05), FloatSlider(v…"
      ]
     },
     "metadata": {},
     "output_type": "display_data"
    }
   ],
   "source": [
    "def my_utility_func(x1,x2,alpha,beta):\n",
    "    return x1**alpha*x2**beta\n",
    "\n",
    "# a. budgetset\n",
    "p1 = 1\n",
    "p2 = 1\n",
    "I = 8\n",
    "p1_bounds = [0.05,4]\n",
    "p2_bounds = [0.05,4]\n",
    "I_bounds = [0.50,20]\n",
    "\n",
    "# b. utility\n",
    "alpha = 0.50\n",
    "beta = 0.50\n",
    "alpha_bounds = [0.05,0.95]\n",
    "beta_bounds = [0.05,0.95]\n",
    "\n",
    "utilitymax.arbitrary(my_utility_func,alpha,beta,alpha_bounds,beta_bounds,\n",
    "                     p1,p2,I,p1_bounds,p2_bounds,I_bounds)"
   ]
  }
 ],
 "metadata": {
  "kernelspec": {
   "display_name": "Python 3",
   "language": "python",
   "name": "python3"
  },
  "language_info": {
   "codemirror_mode": {
    "name": "ipython",
    "version": 3
   },
   "file_extension": ".py",
   "mimetype": "text/x-python",
   "name": "python",
   "nbconvert_exporter": "python",
   "pygments_lexer": "ipython3",
   "version": "3.6.5"
  },
  "toc": {
   "base_numbering": 1,
   "nav_menu": {},
   "number_sections": true,
   "sideBar": true,
   "skip_h1_title": false,
   "title_cell": "Table of Contents",
   "title_sidebar": "Contents",
   "toc_cell": true,
   "toc_position": {},
   "toc_section_display": true,
   "toc_window_display": false
  }
 },
 "nbformat": 4,
 "nbformat_minor": 2
}
